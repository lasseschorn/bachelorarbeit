{
 "cells": [
  {
   "cell_type": "code",
   "execution_count": 1,
   "metadata": {},
   "outputs": [],
   "source": [
    "import pandas as pd\n",
    "from sklearn.model_selection import train_test_split\n",
    "import variablen as var\n",
    "import numpy as np\n",
    "import warnings"
   ]
  },
  {
   "cell_type": "code",
   "execution_count": 2,
   "metadata": {},
   "outputs": [],
   "source": [
    "filename = var.dataset_name_1\n",
    "csv_file     = var.original_df_1\n",
    "save_dir = var.prepair_df_dir\n",
    "column = 'AMT_INCOME_TOTAL'\n",
    "y_test = 'y_test'\n",
    "x_test = 'x_test'"
   ]
  },
  {
   "cell_type": "code",
   "execution_count": 3,
   "metadata": {},
   "outputs": [],
   "source": [
    "def split_data(csv_file,filename, column, save_dir):\n",
    "    df = pd.read_csv(csv_file)\n",
    "    df = df.dropna() \n",
    "    y = df.loc[:, [column]].values\n",
    "    \n",
    "    df = df.drop(columns=[column])\n",
    "    X = df.loc[: , df.columns].values\n",
    "    X_train, X_test, y_train, y_test = train_test_split(X, y, test_size=0.3, random_state=0)\n",
    "    \n",
    "    X_train = pd.DataFrame(X_train, columns= df.columns)\n",
    "    X_test  = pd.DataFrame(X_test,  columns= df.columns)\n",
    "    y_train = pd.DataFrame(y_train, columns= [column])\n",
    "    y_test  = pd.DataFrame(y_test,  columns= [column])\n",
    "    \n",
    "    X_train.to_csv( save_dir  + column + '/X_train_' + filename + '.csv'  ,index=False,sep=';', decimal=',')\n",
    "    X_test.to_csv(  save_dir  + column + '/X_test_'  + filename + '.csv'  ,index=False,sep=';', decimal=',')\n",
    "    y_train.to_csv( save_dir  + column + '/y_train_' + filename + '.csv'  ,index=False,sep=';', decimal=',')\n",
    "    y_test.to_csv(  save_dir  + column + '/y_test_'  + filename + '.csv'  ,index=False,sep=';', decimal=',')"
   ]
  },
  {
   "cell_type": "code",
   "execution_count": 4,
   "metadata": {},
   "outputs": [],
   "source": [
    "# Quelle https://rmisstastic.netlify.app/how-to/python/generate_html/how%20to%20generate%20missing%20values\n",
    "def ampute_mcar(X_complete, missing_rate):\n",
    "    # Mask completly at random some values\n",
    "    M = np.random.binomial(1, missing_rate, size = X_complete.shape)\n",
    "    X_obs = X_complete.copy()\n",
    "    np.putmask(X_obs, M, np.nan)\n",
    "    print('Percentage of newly generated mising values: {}'.\\\n",
    "      #Change Code:     \n",
    "      format(np.round(np.sum(pd.isna(X_obs))/X_obs.size,3)))\n",
    "    \n",
    "    # warning if a full row is missing\n",
    "    for row in X_obs:\n",
    "        if np.all(pd.isna(row)):\n",
    "            warnings.warn('Some row(s) contains only nan values.')\n",
    "            break\n",
    "\n",
    "    # warning if a full col is missing\n",
    "    for col in X_obs.T:\n",
    "        if np.all(pd.isna(col)):\n",
    "            warnings.warn('Some col(s) contains only nan values.')\n",
    "            break\n",
    "            \n",
    "    return X_obs"
   ]
  },
  {
   "cell_type": "code",
   "execution_count": null,
   "metadata": {
    "scrolled": true
   },
   "outputs": [],
   "source": [
    "split_data(csv_file,filename, column)"
   ]
  },
  {
   "cell_type": "code",
   "execution_count": 7,
   "metadata": {},
   "outputs": [],
   "source": [
    "def ampute(column_set):\n",
    "    for column in column_set:\n",
    "        for s in var.test_set: \n",
    "            X_complete = pd.read_csv(save_dir + column + '/' + s + '.csv' , delimiter=\";\", decimal=\",\")\n",
    "            for missing_rate in var.missing_rats:\n",
    "                X_obs_mcar =  pd.DataFrame(ampute_mcar(X_complete.to_numpy(), missing_rate))\n",
    "                X_obs_mcar.columns = [X_complete.columns]\n",
    "                filename = str(np.int_(100 * missing_rate))\n",
    "                X_obs_mcar.to_csv(save_dir + column + '/' + s + '/' + filename + \".csv\" ,index=False,sep=';', decimal=',')"
   ]
  },
  {
   "cell_type": "code",
   "execution_count": 8,
   "metadata": {},
   "outputs": [
    {
     "name": "stdout",
     "output_type": "stream",
     "text": [
      "Percentage of newly generated mising values: 0.0\n",
      "Percentage of newly generated mising values: 0.099\n"
     ]
    },
    {
     "name": "stderr",
     "output_type": "stream",
     "text": [
      "C:\\Users\\GreenBook\\AppData\\Roaming\\Python\\Python37\\site-packages\\ipykernel_launcher.py:14: UserWarning: Some row(s) contains only nan values.\n",
      "  \n"
     ]
    },
    {
     "name": "stdout",
     "output_type": "stream",
     "text": [
      "Percentage of newly generated mising values: 0.252\n",
      "Percentage of newly generated mising values: 0.5\n",
      "Percentage of newly generated mising values: 0.8\n",
      "Percentage of newly generated mising values: 0.0\n",
      "Percentage of newly generated mising values: 0.099\n",
      "Percentage of newly generated mising values: 0.25\n",
      "Percentage of newly generated mising values: 0.499\n",
      "Percentage of newly generated mising values: 0.801\n"
     ]
    }
   ],
   "source": [
    "ampute(var.application_record)"
   ]
  },
  {
   "cell_type": "code",
   "execution_count": null,
   "metadata": {},
   "outputs": [],
   "source": []
  }
 ],
 "metadata": {
  "kernelspec": {
   "display_name": "Python 3",
   "language": "python",
   "name": "python3"
  },
  "language_info": {
   "codemirror_mode": {
    "name": "ipython",
    "version": 3
   },
   "file_extension": ".py",
   "mimetype": "text/x-python",
   "name": "python",
   "nbconvert_exporter": "python",
   "pygments_lexer": "ipython3",
   "version": "3.7.6"
  }
 },
 "nbformat": 4,
 "nbformat_minor": 4
}
