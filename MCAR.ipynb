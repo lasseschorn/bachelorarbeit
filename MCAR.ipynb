{
 "cells": [
  {
   "cell_type": "code",
   "execution_count": 6,
   "metadata": {},
   "outputs": [],
   "source": [
    "import numpy as np\n",
    "import pandas as pd\n",
    "import matplotlib.pyplot as plt\n",
    "import seaborn as sns\n",
    "%matplotlib inline\n",
    "from scipy.special import expit as sigmoid  # logistic function\n",
    "import variablen as var\n",
    "import warnings\n",
    "import utils_plot"
   ]
  },
  {
   "cell_type": "code",
   "execution_count": 2,
   "metadata": {},
   "outputs": [],
   "source": [
    "X_complete = pd.read_csv(var.orginal_df)"
   ]
  },
  {
   "cell_type": "code",
   "execution_count": 3,
   "metadata": {},
   "outputs": [],
   "source": [
    "# Quelle https://rmisstastic.netlify.app/how-to/python/generate_html/how%20to%20generate%20missing%20values\n",
    "\n",
    "def ampute_mcar(X_complete, missing_rate):\n",
    "    # Mask completly at random some values\n",
    "    print(missing_rate)\n",
    "    M = np.random.binomial(1, missing_rate, size = X_complete.shape)\n",
    "    X_obs = X_complete.copy()\n",
    "    np.putmask(X_obs, M, np.nan)\n",
    "    print('Percentage of newly generated mising values: {}'.\\\n",
    "      format(np.round(np.sum(pd.isnull(X_obs))/X_obs.size,3)))\n",
    "    # warning if a full col is missing\n",
    "    for col in X_obs.T:\n",
    "        if np.all(pd.isnull(col)):\n",
    "            warnings.warn('Some col(s) contains only nan values.')\n",
    "            break\n",
    "            \n",
    "    return X_obs"
   ]
  },
  {
   "cell_type": "code",
   "execution_count": 4,
   "metadata": {
    "scrolled": false
   },
   "outputs": [
    {
     "name": "stdout",
     "output_type": "stream",
     "text": [
      "0.1\n",
      "Percentage of newly generated mising values: 0.1\n"
     ]
    },
    {
     "name": "stderr",
     "output_type": "stream",
     "text": [
      "C:\\Users\\GreenBook\\anaconda3\\lib\\site-packages\\ipykernel_launcher.py:14: UserWarning: Some col(s) contains only nan values.\n",
      "  \n"
     ]
    },
    {
     "name": "stdout",
     "output_type": "stream",
     "text": [
      "0.2\n",
      "Percentage of newly generated mising values: 0.201\n",
      "0.3\n",
      "Percentage of newly generated mising values: 0.301\n",
      "0.4\n",
      "Percentage of newly generated mising values: 0.401\n",
      "0.5\n",
      "Percentage of newly generated mising values: 0.501\n",
      "0.6\n",
      "Percentage of newly generated mising values: 0.601\n",
      "0.7\n",
      "Percentage of newly generated mising values: 0.701\n",
      "0.8\n",
      "Percentage of newly generated mising values: 0.801\n"
     ]
    }
   ],
   "source": [
    "# Numpy seed random\n",
    "np.random.seed(var.random_seed)\n",
    "for missing_rate in var.missing_rats:\n",
    "    X_complete['test'] = ampute_mcar(X_complete[var.column_name].to_numpy(), missing_rate)\n",
    "    filename = str(np.round(100 * (1 - missing_rate)))\n",
    "    X_complete.to_csv(var.mcar_dir + filename + \".csv\" ,index=False)"
   ]
  },
  {
   "cell_type": "code",
   "execution_count": 7,
   "metadata": {},
   "outputs": [
    {
     "ename": "NameError",
     "evalue": "name 'scatter_plot_obs' is not defined",
     "output_type": "error",
     "traceback": [
      "\u001b[1;31m---------------------------------------------------------------------------\u001b[0m",
      "\u001b[1;31mNameError\u001b[0m                                 Traceback (most recent call last)",
      "\u001b[1;32m<ipython-input-7-19501caf064e>\u001b[0m in \u001b[0;36m<module>\u001b[1;34m\u001b[0m\n\u001b[1;32m----> 1\u001b[1;33m \u001b[0mscatter_plot_obs\u001b[0m\u001b[1;33m(\u001b[0m\u001b[0mX_complete\u001b[0m\u001b[1;33m[\u001b[0m\u001b[1;34m'test'\u001b[0m\u001b[1;33m]\u001b[0m\u001b[1;33m)\u001b[0m\u001b[1;33m\u001b[0m\u001b[1;33m\u001b[0m\u001b[0m\n\u001b[0m\u001b[0;32m      2\u001b[0m \u001b[0mprint\u001b[0m\u001b[1;33m(\u001b[0m\u001b[1;34m'X_obs with \"MNAR\" mechanism'\u001b[0m\u001b[1;33m)\u001b[0m\u001b[1;33m\u001b[0m\u001b[1;33m\u001b[0m\u001b[0m\n",
      "\u001b[1;31mNameError\u001b[0m: name 'scatter_plot_obs' is not defined"
     ]
    }
   ],
   "source": [
    "scatter_plot_obs(X_complete['test'])\n",
    "print('X_obs with \"MNAR\" mechanism')"
   ]
  },
  {
   "cell_type": "code",
   "execution_count": null,
   "metadata": {},
   "outputs": [],
   "source": [
    "print('Samples completed with X_complete information.')\n",
    "scatter_plot_with_missing_completed(X_obs_mnar, X_complete)"
   ]
  },
  {
   "cell_type": "code",
   "execution_count": null,
   "metadata": {},
   "outputs": [],
   "source": [
    "hist_plot(X_obs_mnar, X_complete)"
   ]
  }
 ],
 "metadata": {
  "kernelspec": {
   "display_name": "Python 3",
   "language": "python",
   "name": "python3"
  },
  "language_info": {
   "codemirror_mode": {
    "name": "ipython",
    "version": 3
   },
   "file_extension": ".py",
   "mimetype": "text/x-python",
   "name": "python",
   "nbconvert_exporter": "python",
   "pygments_lexer": "ipython3",
   "version": "3.7.6"
  }
 },
 "nbformat": 4,
 "nbformat_minor": 4
}
