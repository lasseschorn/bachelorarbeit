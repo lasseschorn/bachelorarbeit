{
 "cells": [
  {
   "cell_type": "code",
   "execution_count": 1,
   "metadata": {},
   "outputs": [],
   "source": [
    "import numpy as np\n",
    "import pandas as pd\n",
    "import matplotlib.pyplot as plt\n",
    "import seaborn as sns\n",
    "%matplotlib inline\n",
    "from scipy.special import expit as sigmoid  # logistic function\n",
    "import variablen as var\n",
    "import warnings\n",
    "import utils_plot"
   ]
  },
  {
   "cell_type": "code",
   "execution_count": 2,
   "metadata": {},
   "outputs": [],
   "source": [
    "X_complete = pd.read_csv(var.orginal_df)"
   ]
  },
  {
   "cell_type": "code",
   "execution_count": 3,
   "metadata": {},
   "outputs": [],
   "source": [
    "# entfernen der ID column\n",
    "X_complete =  X_complete.drop(columns=['ID'])\n",
    "# iterating the columns \n",
    "\n",
    "for col in X_complete.columns:\n",
    "    s = X_complete[col].drop_duplicates()\n",
    "    for i, v in s.items():\n",
    "        X_complete[col] = X_complete[col].replace(v, i)\n",
    "    X_complete[col] = X_complete[col].astype('category')\n",
    "    s.to_csv(var.prepair_df_dir + 'columns/' + col  ,index=False)"
   ]
  },
  {
   "cell_type": "code",
   "execution_count": 5,
   "metadata": {},
   "outputs": [],
   "source": [
    "X_complete.to_csv(var.prepair_df_dir + var.csv_dataset_name ,index=False)"
   ]
  },
  {
   "cell_type": "code",
   "execution_count": null,
   "metadata": {},
   "outputs": [],
   "source": []
  }
 ],
 "metadata": {
  "kernelspec": {
   "display_name": "Python 3",
   "language": "python",
   "name": "python3"
  },
  "language_info": {
   "codemirror_mode": {
    "name": "ipython",
    "version": 3
   },
   "file_extension": ".py",
   "mimetype": "text/x-python",
   "name": "python",
   "nbconvert_exporter": "python",
   "pygments_lexer": "ipython3",
   "version": "3.7.6"
  }
 },
 "nbformat": 4,
 "nbformat_minor": 4
}
