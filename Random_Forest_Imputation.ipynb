{
 "cells": [
  {
   "cell_type": "code",
   "execution_count": 1,
   "metadata": {},
   "outputs": [],
   "source": [
    "from __future__ import division\n",
    "from __future__ import print_function\n",
    "import numpy as np\n",
    "from sklearn.ensemble import RandomForestRegressor\n",
    "import pandas as pd\n",
    "\n"
   ]
  },
  {
   "cell_type": "code",
   "execution_count": 2,
   "metadata": {},
   "outputs": [],
   "source": [
    "# QUelle https://github.com/scikit-learn/scikit-learn/issues/9591\n",
    "def RFImputer(Ximp):\n",
    "    mask = np.isnan(Ximp)\n",
    "    missing_rows, missing_cols = np.where(mask)\n",
    "\n",
    "    # MissForest Algorithm\n",
    "    # 1. Make initial guess for missing values\n",
    "    col_means = np.nanmean(Ximp, axis=0)\n",
    "    Ximp[(missing_rows, missing_cols)] = np.take(col_means, missing_cols)\n",
    "\n",
    "    # 2. k <- vector of sorted indices of columns in X\n",
    "    col_missing_count = mask.sum(axis=0)\n",
    "    k = np.argsort(col_missing_count)\n",
    "\n",
    "    # 3. While not gamma_new < gamma_old and iter < max_iter  do:\n",
    "    iter = 0\n",
    "    max_iter = 100\n",
    "    gamma_new = 0\n",
    "    gamma_old = np.inf\n",
    "    col_index = np.arange(Ximp.shape[1])\n",
    "    model_rf = RandomForestRegressor(random_state=0, n_estimators=1000)\n",
    "    # TODO: Update while condition for categorical vars\n",
    "    while gamma_new < gamma_old and iter < max_iter:\n",
    "        # added\n",
    "        # 4. store previously imputed matrix\n",
    "        Ximp_old = np.copy(Ximp)\n",
    "        if iter != 0:\n",
    "            gamma_old = gamma_new\n",
    "        # 5. loop\n",
    "        for s in k:\n",
    "            s_prime = np.delete(col_index, s)\n",
    "            obs_rows = np.where(~mask[:, s])[0]\n",
    "            mis_rows = np.where(mask[:, s])[0]\n",
    "            yobs = Ximp[obs_rows, s]\n",
    "            xobs = Ximp[np.ix_(obs_rows, s_prime)]\n",
    "            xmis = Ximp[np.ix_(mis_rows, s_prime)]\n",
    "            # 6. Fit a random forest\n",
    "            model_rf.fit(X=xobs, y=yobs)\n",
    "            # 7. predict ymis(s) using xmis(x)\n",
    "            ymis = model_rf.predict(xmis)\n",
    "            Ximp[mis_rows, s] = ymis\n",
    "            # 8. update imputed matrix using predicted matrix ymis(s)\n",
    "        # 9. Update gamma\n",
    "        gamma_new = np.sum((Ximp_old - Ximp) ** 2) / np.sum(\n",
    "            (Ximp) ** 2)\n",
    "        print(\"Iteration:\", iter)\n",
    "        iter += 1\n",
    "    return Ximp_old"
   ]
  },
  {
   "cell_type": "code",
   "execution_count": null,
   "metadata": {},
   "outputs": [],
   "source": []
  }
 ],
 "metadata": {
  "kernelspec": {
   "display_name": "Python 3",
   "language": "python",
   "name": "python3"
  },
  "language_info": {
   "codemirror_mode": {
    "name": "ipython",
    "version": 3
   },
   "file_extension": ".py",
   "mimetype": "text/x-python",
   "name": "python",
   "nbconvert_exporter": "python",
   "pygments_lexer": "ipython3",
   "version": "3.7.6"
  }
 },
 "nbformat": 4,
 "nbformat_minor": 4
}
