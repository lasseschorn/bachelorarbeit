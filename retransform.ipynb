{
 "cells": [
  {
   "cell_type": "code",
   "execution_count": 6,
   "metadata": {},
   "outputs": [],
   "source": [
    "import numpy as np\n",
    "import pandas as pd\n",
    "import matplotlib.pyplot as plt\n",
    "import seaborn as sns\n",
    "%matplotlib inline\n",
    "from scipy.special import expit as sigmoid  # logistic function\n",
    "import variablen as var\n",
    "import warnings\n",
    "import utils_plot\n",
    "from pandas.util.testing import assert_frame_equal"
   ]
  },
  {
   "cell_type": "code",
   "execution_count": 7,
   "metadata": {},
   "outputs": [],
   "source": [
    "X_prep = pd.read_csv(var.prepaired_df, delimiter=\";\", decimal=\",\")\n",
    "X_orig  = pd.read_csv(var.original_df)"
   ]
  },
  {
   "cell_type": "code",
   "execution_count": 8,
   "metadata": {},
   "outputs": [],
   "source": [
    "def retransform(X_original, X_complete):\n",
    "    # iterating the columns \n",
    "    for column in X_complete.columns:\n",
    "        df = pd.read_csv(var.prepair_df_dir + 'columns/' + column,delimiter=\";\", decimal=\",\")\n",
    "        for i, v in df.iterrows():\n",
    "            X_complete[column] = X_complete[column].replace(i , v[column])\n",
    "            X_complete[column] = X_complete[column].astype(X_original[column].dtypes)\n",
    "    return X_complete"
   ]
  },
  {
   "cell_type": "code",
   "execution_count": 9,
   "metadata": {},
   "outputs": [],
   "source": [
    "#assert_frame_equal(X_original, X_original)"
   ]
  },
  {
   "cell_type": "code",
   "execution_count": 10,
   "metadata": {},
   "outputs": [],
   "source": [
    "X_temp =  retransform(X_orig, X_prep)\n",
    "X_temp.to_csv(var.prepair_df_dir + \"repead_\"+ var.csv_dataset_name ,index=False)"
   ]
  },
  {
   "cell_type": "code",
   "execution_count": null,
   "metadata": {},
   "outputs": [],
   "source": []
  }
 ],
 "metadata": {
  "kernelspec": {
   "display_name": "Python 3",
   "language": "python",
   "name": "python3"
  },
  "language_info": {
   "codemirror_mode": {
    "name": "ipython",
    "version": 3
   },
   "file_extension": ".py",
   "mimetype": "text/x-python",
   "name": "python",
   "nbconvert_exporter": "python",
   "pygments_lexer": "ipython3",
   "version": "3.7.6"
  }
 },
 "nbformat": 4,
 "nbformat_minor": 4
}
