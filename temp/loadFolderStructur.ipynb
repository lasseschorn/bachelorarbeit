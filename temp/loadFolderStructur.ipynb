{
 "cells": [
  {
   "cell_type": "code",
   "execution_count": 32,
   "metadata": {},
   "outputs": [],
   "source": [
    "import os\n",
    "import variablen as var"
   ]
  },
  {
   "cell_type": "code",
   "execution_count": 33,
   "metadata": {},
   "outputs": [],
   "source": [
    "class Dir(object):\n",
    "    def __init__(self, name, children=()):\n",
    "        self.name = name\n",
    "        self.children = children\n",
    "\n",
    "    def make_dirs(self, path):\n",
    "        path = os.path.join(path, self.name)\n",
    "        os.makedirs(path)\n",
    "        for child in self.children:\n",
    "            child.make_dirs(path)"
   ]
  },
  {
   "cell_type": "code",
   "execution_count": 46,
   "metadata": {},
   "outputs": [],
   "source": [
    "def main():\n",
    "    shot_name = \"versuchsreihe\"\n",
    "    unterverzeichnis =  [Dir('columns', 'train',var.y_test,var.x_test)]\n",
    "    \n",
    "    tree = Dir(shot_name, [Dir('datasets',\n",
    "                    [Dir('original'),\n",
    "                     Dir('prepaired',\n",
    "                        [Dir(var.column_1, \n",
    "                             unterverzeichnis\n",
    "                            ),\n",
    "                         Dir(var.column_2, \n",
    "                             unterverzeichnis\n",
    "                            ),\n",
    "                         Dir(var.column_3, \n",
    "                             unterverzeichnis\n",
    "                            ),\n",
    "                         Dir(var.column_4, \n",
    "                             unterverzeichnis\n",
    "                            ),\n",
    "                         Dir(var.column_5, \n",
    "                             unterverzeichnis\n",
    "                            ),\n",
    "                         Dir(var.column_6, \n",
    "                             unterverzeichnis\n",
    "                            ),\n",
    "                         Dir(var.column_7, \n",
    "                             unterverzeichnis\n",
    "                            ),\n",
    "                         Dir(var.column_8, \n",
    "                             unterverzeichnis\n",
    "                            ),\n",
    "                         Dir(var.column_9, \n",
    "                             unterverzeichnis\n",
    "                            )\n",
    "                        ])\n",
    "                        ]),                       \n",
    "                 Dir('results',\n",
    "                    [Dir(var.methode_1),\n",
    "                     Dir(var.methode_2),\n",
    "                     Dir(var.methode_3),\n",
    "                     Dir(var.methode_4),\n",
    "                     Dir(var.methode_5),\n",
    "                     Dir(var.methode_6),\n",
    "                     Dir(var.methode_7),\n",
    "                     Dir(var.methode_8),\n",
    "                     Dir(var.methode_9)])\n",
    "                ,Dir('statistics',\n",
    "                    [Dir(var.methode_1),\n",
    "                    Dir(var.methode_2),\n",
    "                    Dir(var.methode_3),\n",
    "                    Dir(var.methode_4),\n",
    "                    Dir(var.methode_5),\n",
    "                    Dir(var.methode_6),\n",
    "                    Dir(var.methode_7),\n",
    "                    Dir(var.methode_8),\n",
    "                    Dir(var.methode_9)])]\n",
    "              )\n",
    "                    \n",
    "    tree.make_dirs( './')"
   ]
  },
  {
   "cell_type": "code",
   "execution_count": 48,
   "metadata": {
    "scrolled": true
   },
   "outputs": [],
   "source": [
    "if __name__ == '__main__':\n",
    "    main()"
   ]
  },
  {
   "cell_type": "code",
   "execution_count": null,
   "metadata": {},
   "outputs": [],
   "source": []
  }
 ],
 "metadata": {
  "kernelspec": {
   "display_name": "Python 3",
   "language": "python",
   "name": "python3"
  },
  "language_info": {
   "codemirror_mode": {
    "name": "ipython",
    "version": 3
   },
   "file_extension": ".py",
   "mimetype": "text/x-python",
   "name": "python",
   "nbconvert_exporter": "python",
   "pygments_lexer": "ipython3",
   "version": "3.7.6"
  }
 },
 "nbformat": 4,
 "nbformat_minor": 4
}
