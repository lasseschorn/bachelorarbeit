{
 "cells": [
  {
   "cell_type": "code",
   "execution_count": 9,
   "metadata": {},
   "outputs": [],
   "source": [
    "import os\n",
    "import variablen as var"
   ]
  },
  {
   "cell_type": "code",
   "execution_count": 6,
   "metadata": {},
   "outputs": [],
   "source": [
    "class Dir(object):\n",
    "    def __init__(self, name, children=()):\n",
    "        self.name = name\n",
    "        self.children = children\n",
    "\n",
    "    def make_dirs(self, path):\n",
    "        path = os.path.join(path, self.name)\n",
    "        os.makedirs(path)\n",
    "        for child in self.children:\n",
    "            child.make_dirs(path)"
   ]
  },
  {
   "cell_type": "code",
   "execution_count": 7,
   "metadata": {},
   "outputs": [],
   "source": [
    "def main():\n",
    "    project_name = \"bachelorarbeit\"\n",
    "    shot_name = \"versuchsreihe\"\n",
    "    tree = Dir(project_name,\n",
    "               [Dir(shot_name,\n",
    "                    [Dir('orginal',\n",
    "                        [Dir('columns')]),\n",
    "                     Dir('testDataSet',\n",
    "                        [Dir('MCAR'),\n",
    "                         Dir('MAR'),\n",
    "                         Dir('MNAR')]),\n",
    "                     Dir('results',\n",
    "                        [Dir(var.methode_1,\n",
    "                            [Dir('MCAR'),\n",
    "                             Dir('MAR'),\n",
    "                             Dir('MNAR')]),\n",
    "                        Dir(var.methode_2,\n",
    "                            [Dir('MCAR'),\n",
    "                             Dir('MAR'),\n",
    "                             Dir('MNAR')]),\n",
    "                        Dir(var.methode_3,\n",
    "                            [Dir('MCAR'),\n",
    "                             Dir('MAR'),\n",
    "                             Dir('MNAR')])])\n",
    "                    ,Dir('statistics',\n",
    "                        [Dir(var.methode_1),\n",
    "                        Dir(var.methode_2),\n",
    "                        Dir(var.methode_3)])\n",
    "                    ])])\n",
    "    tree.make_dirs(var.name + '/')"
   ]
  },
  {
   "cell_type": "code",
   "execution_count": 8,
   "metadata": {
    "scrolled": true
   },
   "outputs": [],
   "source": [
    "if __name__ == '__main__':\n",
    "    main()"
   ]
  },
  {
   "cell_type": "code",
   "execution_count": null,
   "metadata": {},
   "outputs": [],
   "source": []
  }
 ],
 "metadata": {
  "kernelspec": {
   "display_name": "Python 3",
   "language": "python",
   "name": "python3"
  },
  "language_info": {
   "codemirror_mode": {
    "name": "ipython",
    "version": 3
   },
   "file_extension": ".py",
   "mimetype": "text/x-python",
   "name": "python",
   "nbconvert_exporter": "python",
   "pygments_lexer": "ipython3",
   "version": "3.7.6"
  }
 },
 "nbformat": 4,
 "nbformat_minor": 4
}
