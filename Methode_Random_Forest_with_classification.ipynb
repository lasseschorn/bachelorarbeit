{
 "cells": [
  {
   "cell_type": "code",
   "execution_count": null,
   "metadata": {},
   "outputs": [],
   "source": [
    "df_original  = pd.read_csv(var.prepaired_df, delimiter=\";\", decimal=\",\")"
   ]
  },
  {
   "cell_type": "code",
   "execution_count": null,
   "metadata": {},
   "outputs": [],
   "source": [
    "import pandas as pd\n",
    "import numpy as np\n",
    "from sklearn.model_selection import train_test_split\n",
    "# Feature Scaling\n",
    "from sklearn.preprocessing import StandardScaler\n",
    "from sklearn.ensemble import RandomForestClassifier\n",
    "from sklearn.metrics import classification_report, confusion_matrix, accuracy_score\n",
    "import variablen as var\n",
    "from sklearn import metrics\n",
    "import matplotlib.pyplot as plt\n",
    "import seaborn as sn"
   ]
  },
  {
   "cell_type": "code",
   "execution_count": null,
   "metadata": {},
   "outputs": [],
   "source": [
    "df = pd.read_csv(\"versuchsreihe/application_record/datasets//missing_datasets/MAR/10.csv\", delimiter=\";\", decimal=\",\")"
   ]
  },
  {
   "cell_type": "code",
   "execution_count": null,
   "metadata": {},
   "outputs": [],
   "source": [
    "def imputation(df,column):\n",
    "    classifier = get_classifier(df,column)\n",
    "    temp_df = df.copy()\n",
    "    temp_df = temp_df.fillna(-1)\n",
    "    s_y_pred = pd.Series(classifier.predict(temp_df))\n",
    "    df[column] =  s_y_pred\n",
    "    return df"
   ]
  },
  {
   "cell_type": "code",
   "execution_count": null,
   "metadata": {},
   "outputs": [],
   "source": [
    "def get_classifier(dataset,column):\n",
    "    dataset = dataset.dropna()\n",
    "    print(dataset.count())\n",
    "    dataset = dataset.sample(frac = 0.5)\n",
    "    print(dataset.count())\n",
    "    X = dataset.loc[: , dataset.columns].values\n",
    "    y = dataset.loc[:, [column]].values\n",
    "    X_train, X_test, y_train, y_test = train_test_split(X, y, test_size=0.2, random_state=0)\n",
    "    sc = StandardScaler()\n",
    "    X_train = sc.fit_transform(X_train)\n",
    "    X_test = sc.transform(X_test)\n",
    "    best_tree = -1\n",
    "    best_mean_squared_error = -1\n",
    "    for i in [40,50,60,70,80,90,100,110,120,130,140,150,160,170]:\n",
    "    #for i in [140]:\n",
    "        classifier = RandomForestClassifier(n_estimators=i, random_state=0)\n",
    "        classifier.fit(X_train, y_train.ravel())\n",
    "        y_pred = classifier.predict(X_test)\n",
    "        new_mean_squared_error = metrics.mean_squared_error(y_test, y_pred)\n",
    "        print(str(i) + \" durch\")\n",
    "        if best_tree == -1 or new_mean_squared_error < best_mean_squared_error:\n",
    "            best_mean_squared_error = new_mean_squared_error\n",
    "            best_tree = i \n",
    "            print(best_tree)\n",
    "            print(best_mean_squared_error)\n",
    "    print(\"Best Tree \" + str(best_tree))\n",
    "    classifier = RandomForestClassifier(n_estimators=best_tree, random_state=0)\n",
    "    classifier.fit(X_train, y_train.ravel())\n",
    "    y_pred =  classifier.predict(X_test)\n",
    "    #print_conf_matrix(confusion_matrix(y_test,y_pred),dataset)\n",
    "    return classifier\n",
    "    \n"
   ]
  },
  {
   "cell_type": "code",
   "execution_count": null,
   "metadata": {},
   "outputs": [],
   "source": [
    "def print_conf_matrix(array,dataset):\n",
    "    print(str(array.size))\n",
    "    print(str (np.prod(array.shape)))\n",
    "    #df_cm = pd.DataFrame(array, index = [i for i in  range(1, 148)], columns = [i for i in range(1, 148)])\n",
    "    df_cm = pd.DataFrame(array)\n",
    "    plt.figure(figsize = (10,7))\n",
    "    sn.heatmap(df_cm, annot=True)"
   ]
  },
  {
   "cell_type": "code",
   "execution_count": null,
   "metadata": {
    "scrolled": true
   },
   "outputs": [],
   "source": [
    "test_df = imputation(df,\"AMT_INCOME_TOTAL\")"
   ]
  },
  {
   "cell_type": "code",
   "execution_count": null,
   "metadata": {},
   "outputs": [],
   "source": [
    "print(confusion_matrix(y_test,y_pred))\n",
    "print(classification_report(y_test,y_pred))\n",
    "print(accuracy_score(y_test, y_pred))"
   ]
  },
  {
   "cell_type": "code",
   "execution_count": null,
   "metadata": {},
   "outputs": [],
   "source": [
    "print('Mean Absolute Error:', metrics.mean_absolute_error(y_test, y_pred))\n",
    "print('Mean Squared Error:', metrics.mean_squared_error(y_test, y_pred))\n",
    "print('Root Mean Squared Error:', np.sqrt(metrics.mean_squared_error(y_test, y_pred)))"
   ]
  },
  {
   "cell_type": "code",
   "execution_count": null,
   "metadata": {},
   "outputs": [],
   "source": [
    "print('Mean Absolute Error:', metrics.mean_absolute_error(df_original[\"AMT_INCOME_TOTAL\"], y_pred))\n",
    "print('Mean Squared Error:', metrics.mean_squared_error(df_original[\"AMT_INCOME_TOTAL\"], y_pred))\n",
    "print('Root Mean Squared Error:', np.sqrt(metrics.mean_squared_error(df_original[\"AMT_INCOME_TOTAL\"], y_pred)))"
   ]
  },
  {
   "cell_type": "code",
   "execution_count": null,
   "metadata": {},
   "outputs": [],
   "source": [
    "print(confusion_matrix(df_original[\"AMT_INCOME_TOTAL\"],y_pred))\n",
    "print(classification_report(df_original[\"AMT_INCOME_TOTAL\"],y_pred))\n",
    "print(accuracy_score(df_original[\"AMT_INCOME_TOTAL\"], y_pred))"
   ]
  },
  {
   "cell_type": "code",
   "execution_count": null,
   "metadata": {},
   "outputs": [],
   "source": [
    "print( pd.Series(y_pred).isna())"
   ]
  },
  {
   "cell_type": "code",
   "execution_count": null,
   "metadata": {},
   "outputs": [],
   "source": []
  }
 ],
 "metadata": {
  "kernelspec": {
   "display_name": "Python 3",
   "language": "python",
   "name": "python3"
  },
  "language_info": {
   "codemirror_mode": {
    "name": "ipython",
    "version": 3
   },
   "file_extension": ".py",
   "mimetype": "text/x-python",
   "name": "python",
   "nbconvert_exporter": "python",
   "pygments_lexer": "ipython3",
   "version": "3.7.6"
  }
 },
 "nbformat": 4,
 "nbformat_minor": 4
}
