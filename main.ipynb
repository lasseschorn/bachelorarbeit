{
 "cells": [
  {
   "cell_type": "code",
   "execution_count": 1,
   "metadata": {},
   "outputs": [],
   "source": [
    "import pandas as pd\n",
    "import numpy as np\n",
    "import os\n",
    "import variablen as var\n",
    "import warnings\n",
    "from sklearn.model_selection import train_test_split\n",
    "from sklearn.metrics import classification_report, confusion_matrix, accuracy_score\n",
    "from sklearn.ensemble import RandomForestRegressor\n",
    "from sklearn import metrics\n",
    "from sklearn.preprocessing import StandardScaler\n",
    "from sklearn.ensemble import RandomForestClassifier\n",
    "from string import ascii_uppercase\n",
    "import seaborn as sns; sns.set()\n",
    "import matplotlib.pyplot as plt\n",
    "import psutil\n",
    "import sys\n",
    "import traceback\n",
    "from fastai.tabular import *"
   ]
  },
  {
   "cell_type": "code",
   "execution_count": 2,
   "metadata": {},
   "outputs": [],
   "source": [
    "filename = var.dataset_name_1\n",
    "csv_file     = var.original_df_1\n",
    "save_dir = var.prepair_df_dir\n",
    "column = 'AMT_INCOME_TOTAL'\n",
    "result_dir = var.result_dir\n",
    "statistics_dir = var.statistics_dir\n",
    "result_file = 'result'"
   ]
  },
  {
   "cell_type": "code",
   "execution_count": 3,
   "metadata": {},
   "outputs": [],
   "source": [
    "def split_data(csv_file,filename, column, save_dir):\n",
    "    df = pd.read_csv(csv_file)\n",
    "    df = df.dropna() \n",
    "    y = df.loc[:, [column]].values\n",
    "    #y = df.pop(column).to_numpy()\n",
    "    df = df.drop(columns=[column])\n",
    "    X = df.loc[: , df.columns].values\n",
    "    #  X = df.to_numpy()\n",
    "    X_train, X_test, y_train, y_test = train_test_split(X, y, test_size=0.8, random_state=0)\n",
    "    \n",
    "    X_train = pd.DataFrame(X_train, columns= df.columns)\n",
    "    X_test  = pd.DataFrame(X_test,  columns= df.columns)\n",
    "    y_train = pd.DataFrame(y_train, columns= [column])\n",
    "    y_test  = pd.DataFrame(y_test,  columns= [column])\n",
    "    \n",
    "    X_train.to_csv( save_dir  + column + '/X_train' + '.csv'  ,index=False,sep=';', decimal=',')\n",
    "    X_test.to_csv(  save_dir  + column + '/X_test'  + '.csv'  ,index=False,sep=';', decimal=',')\n",
    "    y_train.to_csv( save_dir  + column + '/y_train' + '.csv'  ,index=False,sep=';', decimal=',')\n",
    "    y_test.to_csv(  save_dir  + column + '/y_test'  + '.csv'  ,index=False,sep=';', decimal=',')"
   ]
  },
  {
   "cell_type": "code",
   "execution_count": 4,
   "metadata": {},
   "outputs": [],
   "source": [
    "# Quelle https://rmisstastic.netlify.app/how-to/python/generate_html/how%20to%20generate%20missing%20values\n",
    "def ampute_mcar(X_complete, missing_rate):\n",
    "    # Mask completly at random some values\n",
    "    M = np.random.binomial(1, missing_rate, size = X_complete.shape)\n",
    "    X_obs = X_complete.copy()\n",
    "    np.putmask(X_obs, M, np.nan)\n",
    "    print('Percentage of newly generated mising values: {}'.\\\n",
    "      #Change Code:     \n",
    "      format(np.round(np.sum(pd.isna(X_obs))/X_obs.size,3)))\n",
    "    \n",
    "    # warning if a full row is missing\n",
    "    for row in X_obs:\n",
    "        if np.all(pd.isna(row)):\n",
    "            warnings.warn('Some row(s) contains only nan values.')\n",
    "            break\n",
    "\n",
    "    # warning if a full col is missing\n",
    "    for col in X_obs.T:\n",
    "        if np.all(pd.isna(col)):\n",
    "            warnings.warn('Some col(s) contains only nan values.')\n",
    "            break\n",
    "            \n",
    "    return X_obs"
   ]
  },
  {
   "cell_type": "code",
   "execution_count": 5,
   "metadata": {},
   "outputs": [],
   "source": [
    "def ampute(column_set):\n",
    "    for column in column_set:\n",
    "        for s in var.test_set:\n",
    "            print(column)\n",
    "            print(s)\n",
    "            X_complete = pd.read_csv(save_dir + column + '/' + s + '.csv' , delimiter=\";\", decimal=\",\")\n",
    "            for missing_rate in var.missing_rats:\n",
    "                X_obs_mcar =  pd.DataFrame(ampute_mcar(X_complete.to_numpy(), missing_rate))\n",
    "                X_obs_mcar.columns = [X_complete.columns]\n",
    "                filename = str(np.int_(100 * missing_rate))\n",
    "                X_obs_mcar.to_csv(save_dir + column + '/' + s + '/' + filename + \".csv\" ,index=False,sep=';', decimal=',')"
   ]
  },
  {
   "cell_type": "code",
   "execution_count": 6,
   "metadata": {},
   "outputs": [],
   "source": [
    "def means_impute(column_set):\n",
    "\n",
    "    for column in column_set:\n",
    "        X_train = pd.read_csv(save_dir + column + '/' + var.x_train + '.csv' , delimiter=\";\", decimal=\",\")\n",
    "        y_train = pd.read_csv(save_dir + column + '/' + var.y_train + '.csv' , delimiter=\";\", decimal=\",\")\n",
    "        y_test =  pd.read_csv(save_dir + column + '/' + var.y_test  + '.csv' , delimiter=\";\", decimal=\",\")\n",
    "        \n",
    "        wert = y_train[column].mean()\n",
    "        y_files = os.listdir(save_dir + column + '/' + var.y_test + '/' )\n",
    "        results = y_test[[column]].copy()\n",
    "        for i in y_files:\n",
    "            df = pd.read_csv(save_dir + column + '/' + var.y_test + '/' + i , delimiter=\";\", decimal=\",\")\n",
    "            results[i[0:-4]] = df.replace(df,wert)\n",
    "        results.to_csv( result_dir  + var.methode_1 + '/' + column + '.csv'  ,index=False,sep=';', decimal=',')"
   ]
  },
  {
   "cell_type": "code",
   "execution_count": 7,
   "metadata": {},
   "outputs": [],
   "source": [
    "def mode_impute(column_set):\n",
    "\n",
    "    for column in column_set:\n",
    "        X_train = pd.read_csv(save_dir + column + '/' + var.x_train + '.csv' , delimiter=\";\", decimal=\",\")\n",
    "        y_train = pd.read_csv(save_dir + column + '/' + var.y_train + '.csv' , delimiter=\";\", decimal=\",\")\n",
    "        y_test =  pd.read_csv(save_dir + column + '/' + var.y_test  + '.csv' , delimiter=\";\", decimal=\",\")\n",
    "        \n",
    "        wert = y_train[column].mode().iloc[0,]\n",
    "        y_files = os.listdir(save_dir + column + '/' + var.y_test + '/' )\n",
    "        results = y_test[[column]].copy()\n",
    "        for i in y_files:\n",
    "            df = pd.read_csv(save_dir + column + '/' + var.y_test + '/' + i , delimiter=\";\", decimal=\",\")\n",
    "            results[i[0:-4]] = df.replace(df,wert)\n",
    "        results.to_csv( result_dir  + var.methode_2 + '/' + column + '.csv'  ,index=False,sep=';', decimal=',')"
   ]
  },
  {
   "cell_type": "code",
   "execution_count": 8,
   "metadata": {},
   "outputs": [],
   "source": [
    "def median_impute(column_set):\n",
    "\n",
    "    for column in column_set:\n",
    "        X_train = pd.read_csv(save_dir + column + '/' + var.x_train + '.csv' , delimiter=\";\", decimal=\",\")\n",
    "        y_train = pd.read_csv(save_dir + column + '/' + var.y_train + '.csv' , delimiter=\";\", decimal=\",\")\n",
    "        y_test =  pd.read_csv(save_dir + column + '/' + var.y_test  + '.csv' , delimiter=\";\", decimal=\",\")\n",
    "        \n",
    "        wert = y_train[column].median()\n",
    "        y_files = os.listdir(save_dir + column + '/' + var.y_test + '/' )\n",
    "        results = y_test[[column]].copy()\n",
    "        for i in y_files:\n",
    "            df = pd.read_csv(save_dir + column + '/' + var.y_test + '/' + i , delimiter=\";\", decimal=\",\")\n",
    "            results[i[0:-4]] = df.replace(df,wert)\n",
    "        results.to_csv( result_dir  + var.methode_3 + '/' + column + '.csv'  ,index=False,sep=';', decimal=',')"
   ]
  },
  {
   "cell_type": "code",
   "execution_count": 9,
   "metadata": {},
   "outputs": [],
   "source": [
    "def transform(df,trans_df,do_classify):\n",
    "    for column in df.columns:\n",
    "        changed = pd.Series(data=-1, index=range(df[column].size))\n",
    "        if not do_classify:\n",
    "            if type(column) != str:\n",
    "                for i, v in trans_df.iterrows():\n",
    "                    change = df[column].ne(v[column])\n",
    "                    changed = changed.where(change,1)\n",
    "                change = changed.ne(-1)\n",
    "                df[column] = df[column].where(change, -1)\n",
    "                continue\n",
    "                \n",
    "        for i, v in trans_df.iterrows():\n",
    "            change = df[column].ne(v[column])\n",
    "            df[column] = df[column].where(change, i)\n",
    "            changed = changed.where(change,1)\n",
    "        change = changed.ne(-1)\n",
    "        df[column] = df[column].where(change, -1)\n",
    "        df[column] = df[column].astype('float64')\n",
    "    return df"
   ]
  },
  {
   "cell_type": "code",
   "execution_count": 10,
   "metadata": {},
   "outputs": [],
   "source": [
    "def retransform(df,trans_df, types):\n",
    "    for column in df.columns:\n",
    "        \n",
    "        for i, v in trans_df.iterrows():\n",
    "            change = df[column].ne(i)\n",
    "            df[column] = df[column].where(change,v[column])\n",
    "        change = df[column].ne(-1)\n",
    "        #df[column] = df[column].astype(types.loc[column])\n",
    "        df[column] = df[column].where(change, np.nan)\n",
    "    return df"
   ]
  },
  {
   "cell_type": "code",
   "execution_count": 11,
   "metadata": {},
   "outputs": [],
   "source": [
    "def create_trans_table(df):\n",
    "    result = pd.DataFrame()\n",
    "    for column in df.columns:\n",
    "        s = df[[column]].sort_values(by=column, ascending=True).drop_duplicates(ignore_index=True)\n",
    "        result = pd.concat([result,s], axis=1)\n",
    "            \n",
    "        #s = df[[column]]\n",
    "        #s.to_csv(var.prepair_df_dir + col + '/columns/' + column  ,index=False,sep=';', decimal=',',  float_format='%.2f')\n",
    "        #s = pd.read_csv(var.prepair_df_dir  + col + '/columns/' + column , delimiter=\";\", decimal=\",\")\n",
    "        #result[column] = s[column]\n",
    "    return result"
   ]
  },
  {
   "cell_type": "code",
   "execution_count": 12,
   "metadata": {},
   "outputs": [],
   "source": [
    "def correlation_pearson(df,column):\n",
    "    corr = df.corr(method='pearson').abs().unstack(level=0)\n",
    "    result = corr[column].drop(index=column)\n",
    "    return result.idxmax()"
   ]
  },
  {
   "cell_type": "code",
   "execution_count": 13,
   "metadata": {},
   "outputs": [],
   "source": [
    "def correlation_kendall(df,column):\n",
    "    corr = df.corr(method='kendall').abs().unstack(level=0)\n",
    "    result = corr[column].drop(index=column)\n",
    "    return result.idxmax()"
   ]
  },
  {
   "cell_type": "code",
   "execution_count": 14,
   "metadata": {},
   "outputs": [],
   "source": [
    "def correlation_spearman(df,column):\n",
    "    corr = df.corr(method='spearman').abs().unstack(level=0)\n",
    "    result = corr[column].drop(index=column)\n",
    "    return result.idxmax()"
   ]
  },
  {
   "cell_type": "code",
   "execution_count": 29,
   "metadata": {},
   "outputs": [],
   "source": [
    "def correlation_1_impute(column_set):\n",
    "    for column in column_set:\n",
    "        X_train = pd.read_csv(save_dir + column + '/' + var.x_train + '.csv' , delimiter=\";\", decimal=\",\")\n",
    "        y_train = pd.read_csv(save_dir + column + '/' + var.y_train + '.csv' , delimiter=\";\", decimal=\",\")\n",
    "        y_test =  pd.read_csv(save_dir + column + '/' + var.y_test  + '.csv' , delimiter=\";\", decimal=\",\")\n",
    "        \n",
    "        df = X_train.copy()\n",
    "        df[y_train.columns] = y_train\n",
    "        df =  df.drop(columns=['ID'])\n",
    "\n",
    "        trans_df = create_trans_table(df)\n",
    "        types = df.dtypes \n",
    "        df_temp = transform(df.copy(), trans_df,True )\n",
    "        #############################################\n",
    "        col_corr = correlation_pearson(df_temp ,y_train.columns[0])\n",
    "        # modi_df DF mit Ziel und Corr Spalte\n",
    "        modi_df = df_temp[[col_corr]] \n",
    "        modi_df[y_train.columns[0]] = df[y_train.columns[0]]\n",
    "        modi_df = modi_df.groupby(col_corr)[[y_train.columns[0]]].median()\n",
    "        # hinzufügen Missing Bedingung\n",
    "        df2 =pd.DataFrame([[np.nan, np.nan]], columns=[col_corr, y_train.columns[0]])\n",
    "        modi_df = modi_df.append(df2, ignore_index=True)\n",
    "        \n",
    "        y_files = os.listdir(save_dir + column + '/' + var.y_test + '/' )\n",
    "        results = y_test[[column]].copy()\n",
    "        \n",
    "        for i in y_files:\n",
    "            df_y = pd.read_csv(save_dir + column + '/' + var.y_test + '/' + i , delimiter=\";\", decimal=\",\")\n",
    "            df_x = pd.read_csv(save_dir + column + '/' + var.x_test + '/' + i , delimiter=\";\", decimal=\",\")\n",
    "             \n",
    "            df_x = df_x.drop(columns=['ID'])  \n",
    "            x_test = transform(df_x, trans_df,True )\n",
    "\n",
    "            for a, v in modi_df.iterrows():\n",
    "                change = x_test[col_corr].ne(v[col_corr])\n",
    "                y_test[column] = y_test[column].where(change,v[column])\n",
    "\n",
    "            results[i[0:-4]] = retransform(y_test, trans_df, types)\n",
    "        results.to_csv( result_dir  + var.methode_4 + '/' + column + '.csv'  ,index=False,sep=';', decimal=',')"
   ]
  },
  {
   "cell_type": "code",
   "execution_count": 30,
   "metadata": {},
   "outputs": [],
   "source": [
    "def correlation_2_impute(column_set):\n",
    "    for column in column_set:\n",
    "        X_train = pd.read_csv(save_dir + column + '/' + var.x_train + '.csv' , delimiter=\";\", decimal=\",\")\n",
    "        y_train = pd.read_csv(save_dir + column + '/' + var.y_train + '.csv' , delimiter=\";\", decimal=\",\")\n",
    "        y_test =  pd.read_csv(save_dir + column + '/' + var.y_test  + '.csv' , delimiter=\";\", decimal=\",\")\n",
    "        \n",
    "        df = X_train.copy()\n",
    "        df[y_train.columns] = y_train\n",
    "        df =  df.drop(columns=['ID'])\n",
    "\n",
    "        trans_df = create_trans_table(df)\n",
    "        types = df.dtypes \n",
    "        df_temp = transform(df.copy(), trans_df,True )\n",
    "        #############################################\n",
    "        col_corr = correlation_kendall(df_temp ,y_train.columns[0])\n",
    "        # modi_df DF mit Ziel und Corr Spalte\n",
    "        modi_df = df_temp[[col_corr]] \n",
    "        modi_df[y_train.columns[0]] = df[y_train.columns[0]]\n",
    "        modi_df = modi_df.groupby(col_corr)[[y_train.columns[0]]].median()\n",
    "        # hinzufügen Missing Bedingung\n",
    "        df2 =pd.DataFrame([[np.nan, np.nan]], columns=[col_corr, y_train.columns[0]])\n",
    "        modi_df = modi_df.append(df2, ignore_index=True)\n",
    "        \n",
    "        y_files = os.listdir(save_dir + column + '/' + var.y_test + '/' )\n",
    "        results = y_test[[column]].copy()\n",
    "        \n",
    "        for i in y_files:\n",
    "            df_y = pd.read_csv(save_dir + column + '/' + var.y_test + '/' + i , delimiter=\";\", decimal=\",\")\n",
    "            df_x = pd.read_csv(save_dir + column + '/' + var.x_test + '/' + i , delimiter=\";\", decimal=\",\")\n",
    "             \n",
    "            df_x = df_x.drop(columns=['ID'])  \n",
    "            x_test = transform(df_x, trans_df,True )\n",
    "\n",
    "            for a, v in modi_df.iterrows():\n",
    "                change = x_test[col_corr].ne(v[col_corr])\n",
    "                y_test[column] = y_test[column].where(change,v[column])\n",
    "\n",
    "            results[i[0:-4]] = retransform(y_test, trans_df, types)\n",
    "        results.to_csv( result_dir  + var.methode_5 + '/' + column + '.csv'  ,index=False,sep=';', decimal=',')"
   ]
  },
  {
   "cell_type": "code",
   "execution_count": 31,
   "metadata": {},
   "outputs": [],
   "source": [
    "def correlation_3_impute(column_set):\n",
    "    for column in column_set:\n",
    "        X_train = pd.read_csv(save_dir + column + '/' + var.x_train + '.csv' , delimiter=\";\", decimal=\",\")\n",
    "        y_train = pd.read_csv(save_dir + column + '/' + var.y_train + '.csv' , delimiter=\";\", decimal=\",\")\n",
    "        y_test =  pd.read_csv(save_dir + column + '/' + var.y_test  + '.csv' , delimiter=\";\", decimal=\",\")\n",
    "        \n",
    "        df = X_train.copy()\n",
    "        df[y_train.columns] = y_train\n",
    "        df =  df.drop(columns=['ID'])\n",
    "\n",
    "        trans_df = create_trans_table(df)\n",
    "        types = df.dtypes \n",
    "        df_temp = transform(df.copy(), trans_df,True )\n",
    "        #############################################\n",
    "        col_corr = correlation_spearman(df_temp ,y_train.columns[0])\n",
    "        # modi_df DF mit Ziel und Corr Spalte\n",
    "        modi_df = df_temp[[col_corr]] \n",
    "        modi_df[y_train.columns[0]] = df[y_train.columns[0]]\n",
    "        modi_df = modi_df.groupby(col_corr)[[y_train.columns[0]]].median()\n",
    "        # hinzufügen Missing Bedingung\n",
    "        df2 =pd.DataFrame([[np.nan, np.nan]], columns=[col_corr, y_train.columns[0]])\n",
    "        modi_df = modi_df.append(df2, ignore_index=True)\n",
    "        \n",
    "        y_files = os.listdir(save_dir + column + '/' + var.y_test + '/' )\n",
    "        results = y_test[[column]].copy()\n",
    "        \n",
    "        for i in y_files:\n",
    "            df_y = pd.read_csv(save_dir + column + '/' + var.y_test + '/' + i , delimiter=\";\", decimal=\",\")\n",
    "            df_x = pd.read_csv(save_dir + column + '/' + var.x_test + '/' + i , delimiter=\";\", decimal=\",\")\n",
    "             \n",
    "            df_x = df_x.drop(columns=['ID'])  \n",
    "            x_test = transform(df_x, trans_df,True )\n",
    "\n",
    "            for a, v in modi_df.iterrows():\n",
    "                change = x_test[col_corr].ne(v[col_corr])\n",
    "                y_test[column] = y_test[column].where(change,v[column])\n",
    "\n",
    "            results[i[0:-4]] = retransform(y_test, trans_df, types)\n",
    "        results.to_csv( result_dir  + var.methode_6 + '/' + column + '.csv'  ,index=False,sep=';', decimal=',')"
   ]
  },
  {
   "cell_type": "code",
   "execution_count": 18,
   "metadata": {},
   "outputs": [],
   "source": [
    "def log_exception(exception: BaseException, expected: bool = True):\n",
    "    \"\"\"Prints the passed BaseException to the console, including traceback.\n",
    "\n",
    "    :param exception: The BaseException to output.\n",
    "    :param expected: Determines if BaseException was expected.\n",
    "    \"\"\"\n",
    "    output = \"[{}] {}: {}\".format('EXPECTED' if expected else 'UNEXPECTED', type(exception).__name__, exception)\n",
    "    print(output)\n",
    "    exc_type, exc_value, exc_traceback = sys.exc_info()\n",
    "    traceback.print_tb(exc_traceback)"
   ]
  },
  {
   "cell_type": "code",
   "execution_count": 19,
   "metadata": {},
   "outputs": [],
   "source": [
    "def rondom_forest_classification_impute(column_set):\n",
    "    for column in column_set:\n",
    "        X_train = pd.read_csv(save_dir + column + '/' + var.x_train + '.csv' , delimiter=\";\", decimal=\",\")\n",
    "        y_train = pd.read_csv(save_dir + column + '/' + var.y_train + '.csv' , delimiter=\";\", decimal=\",\")\n",
    "        y_test =  pd.read_csv(save_dir + column + '/' + var.y_test  + '.csv' , delimiter=\";\", decimal=\",\")\n",
    "        X_train = X_train.drop(columns=['ID'])\n",
    "        df = X_train.copy()\n",
    "        df[y_train.columns] = y_train\n",
    "        trans_df = create_trans_table(df)\n",
    "        types = df.dtypes \n",
    "        x_temp = transform(X_train.copy(), trans_df, True )\n",
    "        y_temp = transform(y_train.copy(), trans_df, True )\n",
    "        ##############################################\n",
    "        sc = StandardScaler()\n",
    "        x_temp = sc.fit_transform(x_temp)\n",
    "        x_temp_test = sc.transform(x_temp)\n",
    "        #############################################\n",
    "        best_tree = -1\n",
    "        best_mean_squared_error = -1\n",
    "        ##############################################\n",
    "        for i in [40,50,60,70,80,90,100,110,120,130,140,150,160,170]:\n",
    "            try:\n",
    "                classifier = RandomForestClassifier(n_estimators=i, random_state=0)\n",
    "                classifier.fit(x_temp, y_temp)\n",
    "            #except Exception as exception:\n",
    "            except MemoryError as error:\n",
    "                log_exception(error)\n",
    "                continue\n",
    "            #    print(str(i) + ' kann nicht genommen werden. Speicherporbelme')\n",
    "            ###    continue                \n",
    "            y_pred = classifier.predict(x_temp_test)\n",
    "            ###################################\n",
    "            new_mean_squared_error = metrics.mean_squared_error(y_temp, y_pred)\n",
    "            print(str(i) + \" durch\")\n",
    "            if best_tree == -1 or new_mean_squared_error < best_mean_squared_error:\n",
    "                best_mean_squared_error = new_mean_squared_error\n",
    "                best_tree = i \n",
    "                print(best_tree)\n",
    "                print(best_mean_squared_error)\n",
    "                print(\"Best Tree \" + str(best_tree))\n",
    "        \n",
    "        classifier = RandomForestClassifier(n_estimators=best_tree, random_state=0)\n",
    "        classifier.fit(x_temp, y_temp)\n",
    "        ######################################\n",
    "        ######################################\n",
    "        results = y_test[[column]].copy()\n",
    "        y_files = os.listdir(save_dir + column + '/' + var.y_test + '/' )\n",
    "        for i in y_files:\n",
    "            df_y = pd.read_csv(save_dir + column + '/' + var.y_test + '/' + i , delimiter=\";\", decimal=\",\")\n",
    "            df_x = pd.read_csv(save_dir + column + '/' + var.x_test + '/' + i , delimiter=\";\", decimal=\",\")\n",
    "            \n",
    "            df_x = df_x.drop(columns=['ID'])\n",
    "            x_test = transform(df_x, trans_df, True )\n",
    "            X_test = sc.transform(x_test)\n",
    "            y_pred =  classifier.predict(X_test)\n",
    "            \n",
    "            y_test = pd.DataFrame(data=y_pred, columns=[df_y.columns[0]])\n",
    "            results[i[0:-4]] = retransform(y_test, trans_df, types)\n",
    "        results.to_csv( result_dir  + var.methode_7 + '/' + column + '.csv'  ,index=False,sep=';', decimal=',')      "
   ]
  },
  {
   "cell_type": "code",
   "execution_count": 20,
   "metadata": {},
   "outputs": [],
   "source": [
    "def rondom_forest_regression_impute(column_set):\n",
    "    for column in column_set:\n",
    "        X_train = pd.read_csv(save_dir + column + '/' + var.x_train + '.csv' , delimiter=\";\", decimal=\",\")\n",
    "        y_train = pd.read_csv(save_dir + column + '/' + var.y_train + '.csv' , delimiter=\";\", decimal=\",\")\n",
    "        y_test =  pd.read_csv(save_dir + column + '/' + var.y_test  + '.csv' , delimiter=\";\", decimal=\",\")\n",
    "        \n",
    "        X_train = X_train.drop(columns=['ID'])\n",
    "        trans_df = create_trans_table(X_train)\n",
    "        X_train = transform(X_train.copy(), trans_df, False )\n",
    "        ##############################################\n",
    "        sc = StandardScaler()\n",
    "        X_train = sc.fit_transform(X_train)\n",
    "        X_train_test = sc.transform(X_train)\n",
    "        #############################################\n",
    "        best_tree = -1\n",
    "        best_mean_squared_error = -1\n",
    "        ##############################################\n",
    "        for i in [40,50,60,70,80,90,100,110,120,130,140,150,160,170]:\n",
    "        #for i in [110]:\n",
    "            ###################################\n",
    "            regressor = RandomForestRegressor(n_estimators=i, random_state=0)\n",
    "            regressor.fit(X_train, y_train)\n",
    "            y_pred = regressor.predict(X_train_test)\n",
    "            ###################################\n",
    "            new_mean_squared_error = metrics.mean_squared_error(y_train, y_pred)\n",
    "            print(str(i) + \" durch\")\n",
    "            if best_tree == -1 or new_mean_squared_error < best_mean_squared_error:\n",
    "                best_mean_squared_error = new_mean_squared_error\n",
    "                best_tree = i \n",
    "                print(best_tree)\n",
    "                print(best_mean_squared_error)\n",
    "                print(\"Best Tree \" + str(best_tree))\n",
    "        \n",
    "        regressor = RandomForestRegressor(n_estimators=best_tree, random_state=0)\n",
    "        regressor.fit(X_train, y_train)\n",
    "        ######################################\n",
    "        ######################################\n",
    "        results = y_test[[column]].copy()\n",
    "        y_files = os.listdir(save_dir + column + '/' + var.y_test + '/' )\n",
    "        for i in y_files:\n",
    "            df_y = pd.read_csv(save_dir + column + '/' + var.y_test + '/' + i , delimiter=\";\", decimal=\",\")\n",
    "            df_x = pd.read_csv(save_dir + column + '/' + var.x_test + '/' + i , delimiter=\";\", decimal=\",\")\n",
    "            \n",
    "            df_x = df_x.drop(columns=['ID'])\n",
    "            df_x = transform(df_x.copy(), trans_df, False )\n",
    "            print(i[0:-4])\n",
    "            X_test = sc.transform(df_x)\n",
    "            y_pred =  regressor.predict(X_test)\n",
    "            results[i[0:-4]] = y_pred\n",
    "        results.to_csv( result_dir  + var.methode_8 + '/' + column + '.csv'  ,index=False,sep=';', decimal=',')      "
   ]
  },
  {
   "cell_type": "code",
   "execution_count": 38,
   "metadata": {},
   "outputs": [],
   "source": [
    "def lern_model(train_path, dep_var,cat_names,cont_names, df,df_length,df_ende,procs, epoche=5 ):\n",
    "    data = (TabularList.from_df(df, path=train_path, cat_names=cat_names, cont_names=cont_names, procs=procs)\n",
    "                            .split_by_idx(valid_idx=list(range(df_length,df_ende )))\n",
    "                            .label_from_df(cols=dep_var)\n",
    "                            .databunch())\n",
    "    learn = tabular_learner(data, layers=[200,100], metrics=accuracy)\n",
    "    learn.fit(epoche, 1e-2)\n",
    "    learn.save('mini_train')\n",
    "    learn.export()"
   ]
  },
  {
   "cell_type": "code",
   "execution_count": 55,
   "metadata": {},
   "outputs": [],
   "source": [
    "def neuronal_network_impute(column_set):\n",
    "    for column in column_set:\n",
    "        X_train = pd.read_csv(save_dir + column + '/' + var.x_train + '.csv' , delimiter=\";\", decimal=\",\")\n",
    "        y_train = pd.read_csv(save_dir + column + '/' + var.y_train + '.csv' , delimiter=\";\", decimal=\",\")\n",
    "        y_test =  pd.read_csv(save_dir + column + '/' + var.y_test  + '.csv' , delimiter=\";\", decimal=\",\")\n",
    "        \n",
    "        df_y = pd.read_csv(save_dir + column + '/' + var.y_test + '/' + '0.csv' , delimiter=\";\", decimal=\",\")\n",
    "        df_x = pd.read_csv(save_dir + column + '/' + var.x_test + '/' + '0.csv' , delimiter=\";\", decimal=\",\")\n",
    "        ############\n",
    "        ############\n",
    "        #RANNBATSCHEN\n",
    "        ########\n",
    "        #########\n",
    "        X_train_length =  X_train.shape[0]\n",
    "        X_train = X_train.drop(columns=['ID'])\n",
    "        df_x = df_x.drop(columns=['ID'])\n",
    "        \n",
    "        X_train = X_train.append(df_x, ignore_index=True)\n",
    "        y_train = y_train.append(df_y, ignore_index=True)\n",
    "        X_train[y_train.columns] = y_train\n",
    "        train_path = save_dir + column + '/train/'  \n",
    "        X_train.to_csv( train_path + 'train' + '.csv' ,index=False,sep=';', decimal=',')\n",
    "        cat_names = ['CODE_GENDER','FLAG_OWN_CAR','FLAG_OWN_REALTY', 'CNT_CHILDREN', 'NAME_INCOME_TYPE','NAME_EDUCATION_TYPE','NAME_FAMILY_STATUS', 'NAME_HOUSING_TYPE', 'FLAG_MOBIL', 'FLAG_WORK_PHONE', 'FLAG_PHONE','FLAG_EMAIL','OCCUPATION_TYPE', 'CNT_FAM_MEMBERS']\n",
    "        cont_names = ['DAYS_BIRTH', 'DAYS_EMPLOYED']\n",
    "        procs = [FillMissing, Categorify, Normalize]\n",
    "        dep_var = column\n",
    "        var_metric = 'mean_absolute_error'\n",
    "        ##############################################\n",
    "        lern_model(train_path,dep_var,cat_names,cont_names, X_train,X_train_length ,X_train.shape[0] ,procs, epoche=1)\n",
    "        ######################################\n",
    "        ######################################\n",
    "        \n",
    "        #results = y_test[[column]].copy()\n",
    "        results = pd.DataFrame()\n",
    "        y_files = os.listdir(save_dir + column + '/' + var.y_test + '/' )\n",
    "        ###################################\n",
    "        if os.path.exists(statistics_dir + 'statistics.csv'):\n",
    "            statistics = pd.read_csv(statistics_dir + 'statistics.csv' , delimiter=\";\", decimal=\",\")\n",
    "        else:\n",
    "            statistics = pd.DataFrame()\n",
    "        columns = np.array(['methode','metric','column', 'misssing', 'Wert'])\n",
    "        \n",
    "        for i in y_files:\n",
    "            df_y = pd.read_csv(save_dir + column + '/' + var.y_test + '/' + i , delimiter=\";\", decimal=\",\")\n",
    "            df_x = pd.read_csv(save_dir + column + '/' + var.x_test + '/' + i , delimiter=\";\", decimal=\",\")\n",
    "\n",
    "            \n",
    "            df_x = df_x.drop(columns=['ID'])\n",
    "            df_test = df_x.copy()\n",
    "            df_test[df_y.columns] = df_y\n",
    "            \n",
    "            data = (TabularList.from_df(df_test, path=train_path, cat_names=cat_names, cont_names=cont_names, procs=procs)\n",
    "                           #.split_by_idx(valid_idx=range(800,1000))\n",
    "                           .split_none()\n",
    "                            .label_from_df(cols=dep_var)\n",
    "                           .databunch())\n",
    "            \n",
    "            learn = load_learner(train_path)\n",
    "            \n",
    "            print(type(learn.validate( dl=learn.data.train_dl,metrics=var_metric)))\n",
    "            print( learn.validate( dl=learn.data.train_dl,metrics=var_metric))\n",
    "            values = np.array([var.methode_9 ,var_metric, column])\n",
    "            values = np.append(values, i[0:-4])\n",
    "            values = np.append(values , learn.validate( dl=learn.data.train_dl,metrics=var_metric))\n",
    "            statistics = pd.DataFrame(np.array([values]), columns=columns).append(statistics, ignore_index=True)\n",
    "\n",
    "        statistics.to_csv(statistics_dir + 'statistics.csv', index=False,sep=';', decimal=',')"
   ]
  },
  {
   "cell_type": "code",
   "execution_count": 56,
   "metadata": {
    "scrolled": true
   },
   "outputs": [
    {
     "ename": "KeyboardInterrupt",
     "evalue": "",
     "output_type": "error",
     "traceback": [
      "\u001b[1;31m---------------------------------------------------------------------------\u001b[0m",
      "\u001b[1;31mKeyboardInterrupt\u001b[0m                         Traceback (most recent call last)",
      "\u001b[1;32m<ipython-input-56-dd1cadaaa146>\u001b[0m in \u001b[0;36m<module>\u001b[1;34m\u001b[0m\n\u001b[1;32m----> 1\u001b[1;33m \u001b[0msplit_data\u001b[0m\u001b[1;33m(\u001b[0m\u001b[0mcsv_file\u001b[0m\u001b[1;33m,\u001b[0m\u001b[0mfilename\u001b[0m\u001b[1;33m,\u001b[0m \u001b[0mcolumn\u001b[0m\u001b[1;33m,\u001b[0m \u001b[0msave_dir\u001b[0m\u001b[1;33m)\u001b[0m\u001b[1;33m\u001b[0m\u001b[1;33m\u001b[0m\u001b[0m\n\u001b[0m",
      "\u001b[1;32m<ipython-input-3-83e822db1363>\u001b[0m in \u001b[0;36msplit_data\u001b[1;34m(csv_file, filename, column, save_dir)\u001b[0m\n\u001b[0;32m     17\u001b[0m     \u001b[0mX_test\u001b[0m\u001b[1;33m.\u001b[0m\u001b[0mto_csv\u001b[0m\u001b[1;33m(\u001b[0m  \u001b[0msave_dir\u001b[0m  \u001b[1;33m+\u001b[0m \u001b[0mcolumn\u001b[0m \u001b[1;33m+\u001b[0m \u001b[1;34m'/X_test'\u001b[0m  \u001b[1;33m+\u001b[0m \u001b[1;34m'.csv'\u001b[0m  \u001b[1;33m,\u001b[0m\u001b[0mindex\u001b[0m\u001b[1;33m=\u001b[0m\u001b[1;32mFalse\u001b[0m\u001b[1;33m,\u001b[0m\u001b[0msep\u001b[0m\u001b[1;33m=\u001b[0m\u001b[1;34m';'\u001b[0m\u001b[1;33m,\u001b[0m \u001b[0mdecimal\u001b[0m\u001b[1;33m=\u001b[0m\u001b[1;34m','\u001b[0m\u001b[1;33m)\u001b[0m\u001b[1;33m\u001b[0m\u001b[1;33m\u001b[0m\u001b[0m\n\u001b[0;32m     18\u001b[0m     \u001b[0my_train\u001b[0m\u001b[1;33m.\u001b[0m\u001b[0mto_csv\u001b[0m\u001b[1;33m(\u001b[0m \u001b[0msave_dir\u001b[0m  \u001b[1;33m+\u001b[0m \u001b[0mcolumn\u001b[0m \u001b[1;33m+\u001b[0m \u001b[1;34m'/y_train'\u001b[0m \u001b[1;33m+\u001b[0m \u001b[1;34m'.csv'\u001b[0m  \u001b[1;33m,\u001b[0m\u001b[0mindex\u001b[0m\u001b[1;33m=\u001b[0m\u001b[1;32mFalse\u001b[0m\u001b[1;33m,\u001b[0m\u001b[0msep\u001b[0m\u001b[1;33m=\u001b[0m\u001b[1;34m';'\u001b[0m\u001b[1;33m,\u001b[0m \u001b[0mdecimal\u001b[0m\u001b[1;33m=\u001b[0m\u001b[1;34m','\u001b[0m\u001b[1;33m)\u001b[0m\u001b[1;33m\u001b[0m\u001b[1;33m\u001b[0m\u001b[0m\n\u001b[1;32m---> 19\u001b[1;33m     \u001b[0my_test\u001b[0m\u001b[1;33m.\u001b[0m\u001b[0mto_csv\u001b[0m\u001b[1;33m(\u001b[0m  \u001b[0msave_dir\u001b[0m  \u001b[1;33m+\u001b[0m \u001b[0mcolumn\u001b[0m \u001b[1;33m+\u001b[0m \u001b[1;34m'/y_test'\u001b[0m  \u001b[1;33m+\u001b[0m \u001b[1;34m'.csv'\u001b[0m  \u001b[1;33m,\u001b[0m\u001b[0mindex\u001b[0m\u001b[1;33m=\u001b[0m\u001b[1;32mFalse\u001b[0m\u001b[1;33m,\u001b[0m\u001b[0msep\u001b[0m\u001b[1;33m=\u001b[0m\u001b[1;34m';'\u001b[0m\u001b[1;33m,\u001b[0m \u001b[0mdecimal\u001b[0m\u001b[1;33m=\u001b[0m\u001b[1;34m','\u001b[0m\u001b[1;33m)\u001b[0m\u001b[1;33m\u001b[0m\u001b[1;33m\u001b[0m\u001b[0m\n\u001b[0m",
      "\u001b[1;32m~\\anaconda3\\lib\\site-packages\\pandas\\core\\generic.py\u001b[0m in \u001b[0;36mto_csv\u001b[1;34m(self, path_or_buf, sep, na_rep, float_format, columns, header, index, index_label, mode, encoding, compression, quoting, quotechar, line_terminator, chunksize, date_format, doublequote, escapechar, decimal)\u001b[0m\n\u001b[0;32m   3202\u001b[0m             \u001b[0mdecimal\u001b[0m\u001b[1;33m=\u001b[0m\u001b[0mdecimal\u001b[0m\u001b[1;33m,\u001b[0m\u001b[1;33m\u001b[0m\u001b[1;33m\u001b[0m\u001b[0m\n\u001b[0;32m   3203\u001b[0m         )\n\u001b[1;32m-> 3204\u001b[1;33m         \u001b[0mformatter\u001b[0m\u001b[1;33m.\u001b[0m\u001b[0msave\u001b[0m\u001b[1;33m(\u001b[0m\u001b[1;33m)\u001b[0m\u001b[1;33m\u001b[0m\u001b[1;33m\u001b[0m\u001b[0m\n\u001b[0m\u001b[0;32m   3205\u001b[0m \u001b[1;33m\u001b[0m\u001b[0m\n\u001b[0;32m   3206\u001b[0m         \u001b[1;32mif\u001b[0m \u001b[0mpath_or_buf\u001b[0m \u001b[1;32mis\u001b[0m \u001b[1;32mNone\u001b[0m\u001b[1;33m:\u001b[0m\u001b[1;33m\u001b[0m\u001b[1;33m\u001b[0m\u001b[0m\n",
      "\u001b[1;32m~\\anaconda3\\lib\\site-packages\\pandas\\io\\formats\\csvs.py\u001b[0m in \u001b[0;36msave\u001b[1;34m(self)\u001b[0m\n\u001b[0;32m    202\u001b[0m             )\n\u001b[0;32m    203\u001b[0m \u001b[1;33m\u001b[0m\u001b[0m\n\u001b[1;32m--> 204\u001b[1;33m             \u001b[0mself\u001b[0m\u001b[1;33m.\u001b[0m\u001b[0m_save\u001b[0m\u001b[1;33m(\u001b[0m\u001b[1;33m)\u001b[0m\u001b[1;33m\u001b[0m\u001b[1;33m\u001b[0m\u001b[0m\n\u001b[0m\u001b[0;32m    205\u001b[0m \u001b[1;33m\u001b[0m\u001b[0m\n\u001b[0;32m    206\u001b[0m         \u001b[1;32mfinally\u001b[0m\u001b[1;33m:\u001b[0m\u001b[1;33m\u001b[0m\u001b[1;33m\u001b[0m\u001b[0m\n",
      "\u001b[1;32m~\\anaconda3\\lib\\site-packages\\pandas\\io\\formats\\csvs.py\u001b[0m in \u001b[0;36m_save\u001b[1;34m(self)\u001b[0m\n\u001b[0;32m    321\u001b[0m                 \u001b[1;32mbreak\u001b[0m\u001b[1;33m\u001b[0m\u001b[1;33m\u001b[0m\u001b[0m\n\u001b[0;32m    322\u001b[0m \u001b[1;33m\u001b[0m\u001b[0m\n\u001b[1;32m--> 323\u001b[1;33m             \u001b[0mself\u001b[0m\u001b[1;33m.\u001b[0m\u001b[0m_save_chunk\u001b[0m\u001b[1;33m(\u001b[0m\u001b[0mstart_i\u001b[0m\u001b[1;33m,\u001b[0m \u001b[0mend_i\u001b[0m\u001b[1;33m)\u001b[0m\u001b[1;33m\u001b[0m\u001b[1;33m\u001b[0m\u001b[0m\n\u001b[0m\u001b[0;32m    324\u001b[0m \u001b[1;33m\u001b[0m\u001b[0m\n\u001b[0;32m    325\u001b[0m     \u001b[1;32mdef\u001b[0m \u001b[0m_save_chunk\u001b[0m\u001b[1;33m(\u001b[0m\u001b[0mself\u001b[0m\u001b[1;33m,\u001b[0m \u001b[0mstart_i\u001b[0m\u001b[1;33m:\u001b[0m \u001b[0mint\u001b[0m\u001b[1;33m,\u001b[0m \u001b[0mend_i\u001b[0m\u001b[1;33m:\u001b[0m \u001b[0mint\u001b[0m\u001b[1;33m)\u001b[0m \u001b[1;33m->\u001b[0m \u001b[1;32mNone\u001b[0m\u001b[1;33m:\u001b[0m\u001b[1;33m\u001b[0m\u001b[1;33m\u001b[0m\u001b[0m\n",
      "\u001b[1;32m~\\anaconda3\\lib\\site-packages\\pandas\\io\\formats\\csvs.py\u001b[0m in \u001b[0;36m_save_chunk\u001b[1;34m(self, start_i, end_i)\u001b[0m\n\u001b[0;32m    336\u001b[0m                 \u001b[0mdecimal\u001b[0m\u001b[1;33m=\u001b[0m\u001b[0mself\u001b[0m\u001b[1;33m.\u001b[0m\u001b[0mdecimal\u001b[0m\u001b[1;33m,\u001b[0m\u001b[1;33m\u001b[0m\u001b[1;33m\u001b[0m\u001b[0m\n\u001b[0;32m    337\u001b[0m                 \u001b[0mdate_format\u001b[0m\u001b[1;33m=\u001b[0m\u001b[0mself\u001b[0m\u001b[1;33m.\u001b[0m\u001b[0mdate_format\u001b[0m\u001b[1;33m,\u001b[0m\u001b[1;33m\u001b[0m\u001b[1;33m\u001b[0m\u001b[0m\n\u001b[1;32m--> 338\u001b[1;33m                 \u001b[0mquoting\u001b[0m\u001b[1;33m=\u001b[0m\u001b[0mself\u001b[0m\u001b[1;33m.\u001b[0m\u001b[0mquoting\u001b[0m\u001b[1;33m,\u001b[0m\u001b[1;33m\u001b[0m\u001b[1;33m\u001b[0m\u001b[0m\n\u001b[0m\u001b[0;32m    339\u001b[0m             )\n\u001b[0;32m    340\u001b[0m \u001b[1;33m\u001b[0m\u001b[0m\n",
      "\u001b[1;32m~\\anaconda3\\lib\\site-packages\\pandas\\core\\internals\\blocks.py\u001b[0m in \u001b[0;36mto_native_types\u001b[1;34m(self, slicer, na_rep, float_format, decimal, quoting, **kwargs)\u001b[0m\n\u001b[0;32m   2085\u001b[0m             \u001b[0mfixed_width\u001b[0m\u001b[1;33m=\u001b[0m\u001b[1;32mFalse\u001b[0m\u001b[1;33m,\u001b[0m\u001b[1;33m\u001b[0m\u001b[1;33m\u001b[0m\u001b[0m\n\u001b[0;32m   2086\u001b[0m         )\n\u001b[1;32m-> 2087\u001b[1;33m         \u001b[1;32mreturn\u001b[0m \u001b[0mformatter\u001b[0m\u001b[1;33m.\u001b[0m\u001b[0mget_result_as_array\u001b[0m\u001b[1;33m(\u001b[0m\u001b[1;33m)\u001b[0m\u001b[1;33m\u001b[0m\u001b[1;33m\u001b[0m\u001b[0m\n\u001b[0m\u001b[0;32m   2088\u001b[0m \u001b[1;33m\u001b[0m\u001b[0m\n\u001b[0;32m   2089\u001b[0m     \u001b[1;32mdef\u001b[0m \u001b[0mshould_store\u001b[0m\u001b[1;33m(\u001b[0m\u001b[0mself\u001b[0m\u001b[1;33m,\u001b[0m \u001b[0mvalue\u001b[0m\u001b[1;33m)\u001b[0m\u001b[1;33m:\u001b[0m\u001b[1;33m\u001b[0m\u001b[1;33m\u001b[0m\u001b[0m\n",
      "\u001b[1;32m~\\anaconda3\\lib\\site-packages\\pandas\\io\\formats\\format.py\u001b[0m in \u001b[0;36mget_result_as_array\u001b[1;34m(self)\u001b[0m\n\u001b[0;32m   1400\u001b[0m             \u001b[0mfloat_format\u001b[0m \u001b[1;33m=\u001b[0m \u001b[1;32mlambda\u001b[0m \u001b[0mvalue\u001b[0m\u001b[1;33m:\u001b[0m \u001b[0mself\u001b[0m\u001b[1;33m.\u001b[0m\u001b[0mfloat_format\u001b[0m \u001b[1;33m%\u001b[0m \u001b[0mvalue\u001b[0m\u001b[1;33m\u001b[0m\u001b[1;33m\u001b[0m\u001b[0m\n\u001b[0;32m   1401\u001b[0m \u001b[1;33m\u001b[0m\u001b[0m\n\u001b[1;32m-> 1402\u001b[1;33m         \u001b[0mformatted_values\u001b[0m \u001b[1;33m=\u001b[0m \u001b[0mformat_values_with\u001b[0m\u001b[1;33m(\u001b[0m\u001b[0mfloat_format\u001b[0m\u001b[1;33m)\u001b[0m\u001b[1;33m\u001b[0m\u001b[1;33m\u001b[0m\u001b[0m\n\u001b[0m\u001b[0;32m   1403\u001b[0m \u001b[1;33m\u001b[0m\u001b[0m\n\u001b[0;32m   1404\u001b[0m         \u001b[1;32mif\u001b[0m \u001b[1;32mnot\u001b[0m \u001b[0mself\u001b[0m\u001b[1;33m.\u001b[0m\u001b[0mfixed_width\u001b[0m\u001b[1;33m:\u001b[0m\u001b[1;33m\u001b[0m\u001b[1;33m\u001b[0m\u001b[0m\n",
      "\u001b[1;32m~\\anaconda3\\lib\\site-packages\\pandas\\io\\formats\\format.py\u001b[0m in \u001b[0;36mformat_values_with\u001b[1;34m(float_format)\u001b[0m\n\u001b[0;32m   1375\u001b[0m             \u001b[0mimask\u001b[0m \u001b[1;33m=\u001b[0m \u001b[1;33m(\u001b[0m\u001b[1;33m~\u001b[0m\u001b[0mmask\u001b[0m\u001b[1;33m)\u001b[0m\u001b[1;33m.\u001b[0m\u001b[0mravel\u001b[0m\u001b[1;33m(\u001b[0m\u001b[1;33m)\u001b[0m\u001b[1;33m\u001b[0m\u001b[1;33m\u001b[0m\u001b[0m\n\u001b[0;32m   1376\u001b[0m             values.flat[imask] = np.array(\n\u001b[1;32m-> 1377\u001b[1;33m                 \u001b[1;33m[\u001b[0m\u001b[0mformatter\u001b[0m\u001b[1;33m(\u001b[0m\u001b[0mval\u001b[0m\u001b[1;33m)\u001b[0m \u001b[1;32mfor\u001b[0m \u001b[0mval\u001b[0m \u001b[1;32min\u001b[0m \u001b[0mvalues\u001b[0m\u001b[1;33m.\u001b[0m\u001b[0mravel\u001b[0m\u001b[1;33m(\u001b[0m\u001b[1;33m)\u001b[0m\u001b[1;33m[\u001b[0m\u001b[0mimask\u001b[0m\u001b[1;33m]\u001b[0m\u001b[1;33m]\u001b[0m\u001b[1;33m\u001b[0m\u001b[1;33m\u001b[0m\u001b[0m\n\u001b[0m\u001b[0;32m   1378\u001b[0m             )\n\u001b[0;32m   1379\u001b[0m \u001b[1;33m\u001b[0m\u001b[0m\n",
      "\u001b[1;32m~\\anaconda3\\lib\\site-packages\\pandas\\io\\formats\\format.py\u001b[0m in \u001b[0;36m<listcomp>\u001b[1;34m(.0)\u001b[0m\n\u001b[0;32m   1375\u001b[0m             \u001b[0mimask\u001b[0m \u001b[1;33m=\u001b[0m \u001b[1;33m(\u001b[0m\u001b[1;33m~\u001b[0m\u001b[0mmask\u001b[0m\u001b[1;33m)\u001b[0m\u001b[1;33m.\u001b[0m\u001b[0mravel\u001b[0m\u001b[1;33m(\u001b[0m\u001b[1;33m)\u001b[0m\u001b[1;33m\u001b[0m\u001b[1;33m\u001b[0m\u001b[0m\n\u001b[0;32m   1376\u001b[0m             values.flat[imask] = np.array(\n\u001b[1;32m-> 1377\u001b[1;33m                 \u001b[1;33m[\u001b[0m\u001b[0mformatter\u001b[0m\u001b[1;33m(\u001b[0m\u001b[0mval\u001b[0m\u001b[1;33m)\u001b[0m \u001b[1;32mfor\u001b[0m \u001b[0mval\u001b[0m \u001b[1;32min\u001b[0m \u001b[0mvalues\u001b[0m\u001b[1;33m.\u001b[0m\u001b[0mravel\u001b[0m\u001b[1;33m(\u001b[0m\u001b[1;33m)\u001b[0m\u001b[1;33m[\u001b[0m\u001b[0mimask\u001b[0m\u001b[1;33m]\u001b[0m\u001b[1;33m]\u001b[0m\u001b[1;33m\u001b[0m\u001b[1;33m\u001b[0m\u001b[0m\n\u001b[0m\u001b[0;32m   1378\u001b[0m             )\n\u001b[0;32m   1379\u001b[0m \u001b[1;33m\u001b[0m\u001b[0m\n",
      "\u001b[1;32m~\\anaconda3\\lib\\site-packages\\pandas\\io\\formats\\format.py\u001b[0m in \u001b[0;36mdecimal_formatter\u001b[1;34m(v)\u001b[0m\n\u001b[0;32m   1321\u001b[0m \u001b[1;33m\u001b[0m\u001b[0m\n\u001b[0;32m   1322\u001b[0m             \u001b[1;32mdef\u001b[0m \u001b[0mdecimal_formatter\u001b[0m\u001b[1;33m(\u001b[0m\u001b[0mv\u001b[0m\u001b[1;33m)\u001b[0m\u001b[1;33m:\u001b[0m\u001b[1;33m\u001b[0m\u001b[1;33m\u001b[0m\u001b[0m\n\u001b[1;32m-> 1323\u001b[1;33m                 \u001b[1;32mreturn\u001b[0m \u001b[0mbase_formatter\u001b[0m\u001b[1;33m(\u001b[0m\u001b[0mv\u001b[0m\u001b[1;33m)\u001b[0m\u001b[1;33m.\u001b[0m\u001b[0mreplace\u001b[0m\u001b[1;33m(\u001b[0m\u001b[1;34m\".\"\u001b[0m\u001b[1;33m,\u001b[0m \u001b[0mself\u001b[0m\u001b[1;33m.\u001b[0m\u001b[0mdecimal\u001b[0m\u001b[1;33m,\u001b[0m \u001b[1;36m1\u001b[0m\u001b[1;33m)\u001b[0m\u001b[1;33m\u001b[0m\u001b[1;33m\u001b[0m\u001b[0m\n\u001b[0m\u001b[0;32m   1324\u001b[0m \u001b[1;33m\u001b[0m\u001b[0m\n\u001b[0;32m   1325\u001b[0m         \u001b[1;32melse\u001b[0m\u001b[1;33m:\u001b[0m\u001b[1;33m\u001b[0m\u001b[1;33m\u001b[0m\u001b[0m\n",
      "\u001b[1;31mKeyboardInterrupt\u001b[0m: "
     ]
    }
   ],
   "source": [
    "split_data(csv_file,filename, column, save_dir)"
   ]
  },
  {
   "cell_type": "code",
   "execution_count": 24,
   "metadata": {},
   "outputs": [
    {
     "name": "stdout",
     "output_type": "stream",
     "text": [
      "AMT_INCOME_TOTAL\n",
      "y_test\n",
      "Percentage of newly generated mising values: 0.0\n",
      "Percentage of newly generated mising values: 0.1\n"
     ]
    },
    {
     "name": "stderr",
     "output_type": "stream",
     "text": [
      "C:\\Users\\GreenBook\\AppData\\Roaming\\Python\\Python37\\site-packages\\ipykernel_launcher.py:14: UserWarning: Some row(s) contains only nan values.\n",
      "  \n"
     ]
    },
    {
     "name": "stdout",
     "output_type": "stream",
     "text": [
      "Percentage of newly generated mising values: 0.25\n",
      "Percentage of newly generated mising values: 0.5\n",
      "Percentage of newly generated mising values: 0.8\n",
      "AMT_INCOME_TOTAL\n",
      "X_test\n",
      "Percentage of newly generated mising values: 0.0\n",
      "Percentage of newly generated mising values: 0.1\n",
      "Percentage of newly generated mising values: 0.25\n",
      "Percentage of newly generated mising values: 0.5\n",
      "Percentage of newly generated mising values: 0.8\n"
     ]
    }
   ],
   "source": [
    "ampute(var.application_record)"
   ]
  },
  {
   "cell_type": "code",
   "execution_count": 25,
   "metadata": {},
   "outputs": [],
   "source": [
    " means_impute(var.application_record)"
   ]
  },
  {
   "cell_type": "code",
   "execution_count": 26,
   "metadata": {},
   "outputs": [],
   "source": [
    "median_impute(var.application_record)"
   ]
  },
  {
   "cell_type": "code",
   "execution_count": 27,
   "metadata": {},
   "outputs": [],
   "source": [
    "mode_impute(var.application_record)"
   ]
  },
  {
   "cell_type": "code",
   "execution_count": 32,
   "metadata": {},
   "outputs": [
    {
     "name": "stderr",
     "output_type": "stream",
     "text": [
      "C:\\Users\\GreenBook\\AppData\\Roaming\\Python\\Python37\\site-packages\\ipykernel_launcher.py:18: SettingWithCopyWarning: \n",
      "A value is trying to be set on a copy of a slice from a DataFrame.\n",
      "Try using .loc[row_indexer,col_indexer] = value instead\n",
      "\n",
      "See the caveats in the documentation: https://pandas.pydata.org/pandas-docs/stable/user_guide/indexing.html#returning-a-view-versus-a-copy\n"
     ]
    }
   ],
   "source": [
    "correlation_1_impute(var.application_record)"
   ]
  },
  {
   "cell_type": "code",
   "execution_count": 33,
   "metadata": {},
   "outputs": [
    {
     "name": "stderr",
     "output_type": "stream",
     "text": [
      "C:\\Users\\GreenBook\\AppData\\Roaming\\Python\\Python37\\site-packages\\ipykernel_launcher.py:18: SettingWithCopyWarning: \n",
      "A value is trying to be set on a copy of a slice from a DataFrame.\n",
      "Try using .loc[row_indexer,col_indexer] = value instead\n",
      "\n",
      "See the caveats in the documentation: https://pandas.pydata.org/pandas-docs/stable/user_guide/indexing.html#returning-a-view-versus-a-copy\n"
     ]
    }
   ],
   "source": [
    "correlation_2_impute(var.application_record)"
   ]
  },
  {
   "cell_type": "code",
   "execution_count": 34,
   "metadata": {},
   "outputs": [
    {
     "name": "stderr",
     "output_type": "stream",
     "text": [
      "C:\\Users\\GreenBook\\AppData\\Roaming\\Python\\Python37\\site-packages\\ipykernel_launcher.py:18: SettingWithCopyWarning: \n",
      "A value is trying to be set on a copy of a slice from a DataFrame.\n",
      "Try using .loc[row_indexer,col_indexer] = value instead\n",
      "\n",
      "See the caveats in the documentation: https://pandas.pydata.org/pandas-docs/stable/user_guide/indexing.html#returning-a-view-versus-a-copy\n"
     ]
    }
   ],
   "source": [
    "correlation_3_impute(var.application_record)"
   ]
  },
  {
   "cell_type": "code",
   "execution_count": 35,
   "metadata": {},
   "outputs": [
    {
     "name": "stderr",
     "output_type": "stream",
     "text": [
      "C:\\Users\\GreenBook\\AppData\\Roaming\\Python\\Python37\\site-packages\\ipykernel_launcher.py:22: DataConversionWarning: A column-vector y was passed when a 1d array was expected. Please change the shape of y to (n_samples,), for example using ravel().\n"
     ]
    },
    {
     "name": "stdout",
     "output_type": "stream",
     "text": [
      "40 durch\n",
      "40\n",
      "62210350098.00211\n",
      "Best Tree 40\n"
     ]
    },
    {
     "name": "stderr",
     "output_type": "stream",
     "text": [
      "C:\\Users\\GreenBook\\AppData\\Roaming\\Python\\Python37\\site-packages\\ipykernel_launcher.py:22: DataConversionWarning: A column-vector y was passed when a 1d array was expected. Please change the shape of y to (n_samples,), for example using ravel().\n"
     ]
    },
    {
     "name": "stdout",
     "output_type": "stream",
     "text": [
      "50 durch\n",
      "50\n",
      "56579828345.17495\n",
      "Best Tree 50\n"
     ]
    },
    {
     "name": "stderr",
     "output_type": "stream",
     "text": [
      "C:\\Users\\GreenBook\\AppData\\Roaming\\Python\\Python37\\site-packages\\ipykernel_launcher.py:22: DataConversionWarning: A column-vector y was passed when a 1d array was expected. Please change the shape of y to (n_samples,), for example using ravel().\n"
     ]
    },
    {
     "name": "stdout",
     "output_type": "stream",
     "text": [
      "60 durch\n",
      "60\n",
      "54902268112.34865\n",
      "Best Tree 60\n"
     ]
    },
    {
     "name": "stderr",
     "output_type": "stream",
     "text": [
      "C:\\Users\\GreenBook\\AppData\\Roaming\\Python\\Python37\\site-packages\\ipykernel_launcher.py:22: DataConversionWarning: A column-vector y was passed when a 1d array was expected. Please change the shape of y to (n_samples,), for example using ravel().\n"
     ]
    },
    {
     "name": "stdout",
     "output_type": "stream",
     "text": [
      "70 durch\n"
     ]
    },
    {
     "name": "stderr",
     "output_type": "stream",
     "text": [
      "C:\\Users\\GreenBook\\AppData\\Roaming\\Python\\Python37\\site-packages\\ipykernel_launcher.py:22: DataConversionWarning: A column-vector y was passed when a 1d array was expected. Please change the shape of y to (n_samples,), for example using ravel().\n"
     ]
    },
    {
     "name": "stdout",
     "output_type": "stream",
     "text": [
      "80 durch\n"
     ]
    },
    {
     "name": "stderr",
     "output_type": "stream",
     "text": [
      "C:\\Users\\GreenBook\\AppData\\Roaming\\Python\\Python37\\site-packages\\ipykernel_launcher.py:22: DataConversionWarning: A column-vector y was passed when a 1d array was expected. Please change the shape of y to (n_samples,), for example using ravel().\n"
     ]
    },
    {
     "name": "stdout",
     "output_type": "stream",
     "text": [
      "90 durch\n"
     ]
    },
    {
     "name": "stderr",
     "output_type": "stream",
     "text": [
      "C:\\Users\\GreenBook\\AppData\\Roaming\\Python\\Python37\\site-packages\\ipykernel_launcher.py:22: DataConversionWarning: A column-vector y was passed when a 1d array was expected. Please change the shape of y to (n_samples,), for example using ravel().\n"
     ]
    },
    {
     "name": "stdout",
     "output_type": "stream",
     "text": [
      "100 durch\n"
     ]
    },
    {
     "name": "stderr",
     "output_type": "stream",
     "text": [
      "C:\\Users\\GreenBook\\AppData\\Roaming\\Python\\Python37\\site-packages\\ipykernel_launcher.py:22: DataConversionWarning: A column-vector y was passed when a 1d array was expected. Please change the shape of y to (n_samples,), for example using ravel().\n"
     ]
    },
    {
     "name": "stdout",
     "output_type": "stream",
     "text": [
      "110 durch\n"
     ]
    },
    {
     "name": "stderr",
     "output_type": "stream",
     "text": [
      "C:\\Users\\GreenBook\\AppData\\Roaming\\Python\\Python37\\site-packages\\ipykernel_launcher.py:22: DataConversionWarning: A column-vector y was passed when a 1d array was expected. Please change the shape of y to (n_samples,), for example using ravel().\n"
     ]
    },
    {
     "name": "stdout",
     "output_type": "stream",
     "text": [
      "120 durch\n"
     ]
    },
    {
     "name": "stderr",
     "output_type": "stream",
     "text": [
      "C:\\Users\\GreenBook\\AppData\\Roaming\\Python\\Python37\\site-packages\\ipykernel_launcher.py:22: DataConversionWarning: A column-vector y was passed when a 1d array was expected. Please change the shape of y to (n_samples,), for example using ravel().\n"
     ]
    },
    {
     "name": "stdout",
     "output_type": "stream",
     "text": [
      "130 durch\n"
     ]
    },
    {
     "name": "stderr",
     "output_type": "stream",
     "text": [
      "C:\\Users\\GreenBook\\AppData\\Roaming\\Python\\Python37\\site-packages\\ipykernel_launcher.py:22: DataConversionWarning: A column-vector y was passed when a 1d array was expected. Please change the shape of y to (n_samples,), for example using ravel().\n"
     ]
    },
    {
     "name": "stdout",
     "output_type": "stream",
     "text": [
      "140 durch\n"
     ]
    },
    {
     "name": "stderr",
     "output_type": "stream",
     "text": [
      "C:\\Users\\GreenBook\\AppData\\Roaming\\Python\\Python37\\site-packages\\ipykernel_launcher.py:22: DataConversionWarning: A column-vector y was passed when a 1d array was expected. Please change the shape of y to (n_samples,), for example using ravel().\n"
     ]
    },
    {
     "name": "stdout",
     "output_type": "stream",
     "text": [
      "150 durch\n"
     ]
    },
    {
     "name": "stderr",
     "output_type": "stream",
     "text": [
      "C:\\Users\\GreenBook\\AppData\\Roaming\\Python\\Python37\\site-packages\\ipykernel_launcher.py:22: DataConversionWarning: A column-vector y was passed when a 1d array was expected. Please change the shape of y to (n_samples,), for example using ravel().\n"
     ]
    },
    {
     "name": "stdout",
     "output_type": "stream",
     "text": [
      "160 durch\n"
     ]
    },
    {
     "name": "stderr",
     "output_type": "stream",
     "text": [
      "C:\\Users\\GreenBook\\AppData\\Roaming\\Python\\Python37\\site-packages\\ipykernel_launcher.py:22: DataConversionWarning: A column-vector y was passed when a 1d array was expected. Please change the shape of y to (n_samples,), for example using ravel().\n"
     ]
    },
    {
     "name": "stdout",
     "output_type": "stream",
     "text": [
      "170 durch\n"
     ]
    },
    {
     "name": "stderr",
     "output_type": "stream",
     "text": [
      "C:\\Users\\GreenBook\\AppData\\Roaming\\Python\\Python37\\site-packages\\ipykernel_launcher.py:35: DataConversionWarning: A column-vector y was passed when a 1d array was expected. Please change the shape of y to (n_samples,), for example using ravel().\n"
     ]
    },
    {
     "name": "stdout",
     "output_type": "stream",
     "text": [
      "0\n",
      "10\n",
      "25\n",
      "50\n",
      "80\n"
     ]
    }
   ],
   "source": [
    "rondom_forest_regression_impute(var.application_record)"
   ]
  },
  {
   "cell_type": "code",
   "execution_count": 36,
   "metadata": {
    "scrolled": true
   },
   "outputs": [
    {
     "name": "stderr",
     "output_type": "stream",
     "text": [
      "C:\\Users\\GreenBook\\AppData\\Roaming\\Python\\Python37\\site-packages\\ipykernel_launcher.py:24: DataConversionWarning: A column-vector y was passed when a 1d array was expected. Please change the shape of y to (n_samples,), for example using ravel().\n"
     ]
    },
    {
     "name": "stdout",
     "output_type": "stream",
     "text": [
      "40 durch\n",
      "40\n",
      "16109.520305569245\n",
      "Best Tree 40\n"
     ]
    },
    {
     "name": "stderr",
     "output_type": "stream",
     "text": [
      "C:\\Users\\GreenBook\\AppData\\Roaming\\Python\\Python37\\site-packages\\ipykernel_launcher.py:24: DataConversionWarning: A column-vector y was passed when a 1d array was expected. Please change the shape of y to (n_samples,), for example using ravel().\n"
     ]
    },
    {
     "name": "stdout",
     "output_type": "stream",
     "text": [
      "50 durch\n",
      "50\n",
      "15348.134631181207\n",
      "Best Tree 50\n"
     ]
    },
    {
     "name": "stderr",
     "output_type": "stream",
     "text": [
      "C:\\Users\\GreenBook\\AppData\\Roaming\\Python\\Python37\\site-packages\\ipykernel_launcher.py:24: DataConversionWarning: A column-vector y was passed when a 1d array was expected. Please change the shape of y to (n_samples,), for example using ravel().\n"
     ]
    },
    {
     "name": "stdout",
     "output_type": "stream",
     "text": [
      "60 durch\n"
     ]
    },
    {
     "name": "stderr",
     "output_type": "stream",
     "text": [
      "C:\\Users\\GreenBook\\AppData\\Roaming\\Python\\Python37\\site-packages\\ipykernel_launcher.py:24: DataConversionWarning: A column-vector y was passed when a 1d array was expected. Please change the shape of y to (n_samples,), for example using ravel().\n"
     ]
    },
    {
     "name": "stdout",
     "output_type": "stream",
     "text": [
      "70 durch\n"
     ]
    },
    {
     "name": "stderr",
     "output_type": "stream",
     "text": [
      "C:\\Users\\GreenBook\\AppData\\Roaming\\Python\\Python37\\site-packages\\ipykernel_launcher.py:24: DataConversionWarning: A column-vector y was passed when a 1d array was expected. Please change the shape of y to (n_samples,), for example using ravel().\n"
     ]
    },
    {
     "name": "stdout",
     "output_type": "stream",
     "text": [
      "[EXPECTED] MemoryError: could not allocate 231211008 bytes\n"
     ]
    },
    {
     "name": "stderr",
     "output_type": "stream",
     "text": [
      "  File \"<ipython-input-19-23eb34c12055>\", line 24, in rondom_forest_classification_impute\n",
      "    classifier.fit(x_temp, y_temp)\n",
      "  File \"C:\\Users\\GreenBook\\anaconda3\\lib\\site-packages\\sklearn\\ensemble\\_forest.py\", line 383, in fit\n",
      "    for i, t in enumerate(trees))\n",
      "  File \"C:\\Users\\GreenBook\\anaconda3\\lib\\site-packages\\joblib\\parallel.py\", line 1007, in __call__\n",
      "    while self.dispatch_one_batch(iterator):\n",
      "  File \"C:\\Users\\GreenBook\\anaconda3\\lib\\site-packages\\joblib\\parallel.py\", line 835, in dispatch_one_batch\n",
      "    self._dispatch(tasks)\n",
      "  File \"C:\\Users\\GreenBook\\anaconda3\\lib\\site-packages\\joblib\\parallel.py\", line 754, in _dispatch\n",
      "    job = self._backend.apply_async(batch, callback=cb)\n",
      "  File \"C:\\Users\\GreenBook\\anaconda3\\lib\\site-packages\\joblib\\_parallel_backends.py\", line 209, in apply_async\n",
      "    result = ImmediateResult(func)\n",
      "  File \"C:\\Users\\GreenBook\\anaconda3\\lib\\site-packages\\joblib\\_parallel_backends.py\", line 590, in __init__\n",
      "    self.results = batch()\n",
      "  File \"C:\\Users\\GreenBook\\anaconda3\\lib\\site-packages\\joblib\\parallel.py\", line 256, in __call__\n",
      "    for func, args, kwargs in self.items]\n",
      "  File \"C:\\Users\\GreenBook\\anaconda3\\lib\\site-packages\\joblib\\parallel.py\", line 256, in <listcomp>\n",
      "    for func, args, kwargs in self.items]\n",
      "  File \"C:\\Users\\GreenBook\\anaconda3\\lib\\site-packages\\sklearn\\ensemble\\_forest.py\", line 165, in _parallel_build_trees\n",
      "    tree.fit(X, y, sample_weight=curr_sample_weight, check_input=False)\n",
      "  File \"C:\\Users\\GreenBook\\anaconda3\\lib\\site-packages\\sklearn\\tree\\_classes.py\", line 877, in fit\n",
      "    X_idx_sorted=X_idx_sorted)\n",
      "  File \"C:\\Users\\GreenBook\\anaconda3\\lib\\site-packages\\sklearn\\tree\\_classes.py\", line 367, in fit\n",
      "    builder.build(self.tree_, X, y, sample_weight, X_idx_sorted)\n",
      "  File \"sklearn\\tree\\_tree.pyx\", line 146, in sklearn.tree._tree.DepthFirstTreeBuilder.build\n",
      "  File \"sklearn\\tree\\_tree.pyx\", line 244, in sklearn.tree._tree.DepthFirstTreeBuilder.build\n",
      "  File \"sklearn\\tree\\_tree.pyx\", line 739, in sklearn.tree._tree.Tree._add_node\n",
      "  File \"sklearn\\tree\\_tree.pyx\", line 711, in sklearn.tree._tree.Tree._resize_c\n",
      "  File \"sklearn\\tree\\_utils.pyx\", line 41, in sklearn.tree._utils.safe_realloc\n",
      "C:\\Users\\GreenBook\\AppData\\Roaming\\Python\\Python37\\site-packages\\ipykernel_launcher.py:24: DataConversionWarning: A column-vector y was passed when a 1d array was expected. Please change the shape of y to (n_samples,), for example using ravel().\n"
     ]
    },
    {
     "name": "stdout",
     "output_type": "stream",
     "text": [
      "[EXPECTED] MemoryError: could not allocate 231211008 bytes\n"
     ]
    },
    {
     "name": "stderr",
     "output_type": "stream",
     "text": [
      "  File \"<ipython-input-19-23eb34c12055>\", line 24, in rondom_forest_classification_impute\n",
      "    classifier.fit(x_temp, y_temp)\n",
      "  File \"C:\\Users\\GreenBook\\anaconda3\\lib\\site-packages\\sklearn\\ensemble\\_forest.py\", line 383, in fit\n",
      "    for i, t in enumerate(trees))\n",
      "  File \"C:\\Users\\GreenBook\\anaconda3\\lib\\site-packages\\joblib\\parallel.py\", line 1007, in __call__\n",
      "    while self.dispatch_one_batch(iterator):\n",
      "  File \"C:\\Users\\GreenBook\\anaconda3\\lib\\site-packages\\joblib\\parallel.py\", line 835, in dispatch_one_batch\n",
      "    self._dispatch(tasks)\n",
      "  File \"C:\\Users\\GreenBook\\anaconda3\\lib\\site-packages\\joblib\\parallel.py\", line 754, in _dispatch\n",
      "    job = self._backend.apply_async(batch, callback=cb)\n",
      "  File \"C:\\Users\\GreenBook\\anaconda3\\lib\\site-packages\\joblib\\_parallel_backends.py\", line 209, in apply_async\n",
      "    result = ImmediateResult(func)\n",
      "  File \"C:\\Users\\GreenBook\\anaconda3\\lib\\site-packages\\joblib\\_parallel_backends.py\", line 590, in __init__\n",
      "    self.results = batch()\n",
      "  File \"C:\\Users\\GreenBook\\anaconda3\\lib\\site-packages\\joblib\\parallel.py\", line 256, in __call__\n",
      "    for func, args, kwargs in self.items]\n",
      "  File \"C:\\Users\\GreenBook\\anaconda3\\lib\\site-packages\\joblib\\parallel.py\", line 256, in <listcomp>\n",
      "    for func, args, kwargs in self.items]\n",
      "  File \"C:\\Users\\GreenBook\\anaconda3\\lib\\site-packages\\sklearn\\ensemble\\_forest.py\", line 165, in _parallel_build_trees\n",
      "    tree.fit(X, y, sample_weight=curr_sample_weight, check_input=False)\n",
      "  File \"C:\\Users\\GreenBook\\anaconda3\\lib\\site-packages\\sklearn\\tree\\_classes.py\", line 877, in fit\n",
      "    X_idx_sorted=X_idx_sorted)\n",
      "  File \"C:\\Users\\GreenBook\\anaconda3\\lib\\site-packages\\sklearn\\tree\\_classes.py\", line 367, in fit\n",
      "    builder.build(self.tree_, X, y, sample_weight, X_idx_sorted)\n",
      "  File \"sklearn\\tree\\_tree.pyx\", line 146, in sklearn.tree._tree.DepthFirstTreeBuilder.build\n",
      "  File \"sklearn\\tree\\_tree.pyx\", line 244, in sklearn.tree._tree.DepthFirstTreeBuilder.build\n",
      "  File \"sklearn\\tree\\_tree.pyx\", line 739, in sklearn.tree._tree.Tree._add_node\n",
      "  File \"sklearn\\tree\\_tree.pyx\", line 711, in sklearn.tree._tree.Tree._resize_c\n",
      "  File \"sklearn\\tree\\_utils.pyx\", line 41, in sklearn.tree._utils.safe_realloc\n",
      "C:\\Users\\GreenBook\\AppData\\Roaming\\Python\\Python37\\site-packages\\ipykernel_launcher.py:24: DataConversionWarning: A column-vector y was passed when a 1d array was expected. Please change the shape of y to (n_samples,), for example using ravel().\n"
     ]
    },
    {
     "name": "stdout",
     "output_type": "stream",
     "text": [
      "[EXPECTED] MemoryError: could not allocate 231211008 bytes\n"
     ]
    },
    {
     "name": "stderr",
     "output_type": "stream",
     "text": [
      "  File \"<ipython-input-19-23eb34c12055>\", line 24, in rondom_forest_classification_impute\n",
      "    classifier.fit(x_temp, y_temp)\n",
      "  File \"C:\\Users\\GreenBook\\anaconda3\\lib\\site-packages\\sklearn\\ensemble\\_forest.py\", line 383, in fit\n",
      "    for i, t in enumerate(trees))\n",
      "  File \"C:\\Users\\GreenBook\\anaconda3\\lib\\site-packages\\joblib\\parallel.py\", line 1007, in __call__\n",
      "    while self.dispatch_one_batch(iterator):\n",
      "  File \"C:\\Users\\GreenBook\\anaconda3\\lib\\site-packages\\joblib\\parallel.py\", line 835, in dispatch_one_batch\n",
      "    self._dispatch(tasks)\n",
      "  File \"C:\\Users\\GreenBook\\anaconda3\\lib\\site-packages\\joblib\\parallel.py\", line 754, in _dispatch\n",
      "    job = self._backend.apply_async(batch, callback=cb)\n",
      "  File \"C:\\Users\\GreenBook\\anaconda3\\lib\\site-packages\\joblib\\_parallel_backends.py\", line 209, in apply_async\n",
      "    result = ImmediateResult(func)\n",
      "  File \"C:\\Users\\GreenBook\\anaconda3\\lib\\site-packages\\joblib\\_parallel_backends.py\", line 590, in __init__\n",
      "    self.results = batch()\n",
      "  File \"C:\\Users\\GreenBook\\anaconda3\\lib\\site-packages\\joblib\\parallel.py\", line 256, in __call__\n",
      "    for func, args, kwargs in self.items]\n",
      "  File \"C:\\Users\\GreenBook\\anaconda3\\lib\\site-packages\\joblib\\parallel.py\", line 256, in <listcomp>\n",
      "    for func, args, kwargs in self.items]\n",
      "  File \"C:\\Users\\GreenBook\\anaconda3\\lib\\site-packages\\sklearn\\ensemble\\_forest.py\", line 165, in _parallel_build_trees\n",
      "    tree.fit(X, y, sample_weight=curr_sample_weight, check_input=False)\n",
      "  File \"C:\\Users\\GreenBook\\anaconda3\\lib\\site-packages\\sklearn\\tree\\_classes.py\", line 877, in fit\n",
      "    X_idx_sorted=X_idx_sorted)\n",
      "  File \"C:\\Users\\GreenBook\\anaconda3\\lib\\site-packages\\sklearn\\tree\\_classes.py\", line 367, in fit\n",
      "    builder.build(self.tree_, X, y, sample_weight, X_idx_sorted)\n",
      "  File \"sklearn\\tree\\_tree.pyx\", line 146, in sklearn.tree._tree.DepthFirstTreeBuilder.build\n",
      "  File \"sklearn\\tree\\_tree.pyx\", line 244, in sklearn.tree._tree.DepthFirstTreeBuilder.build\n",
      "  File \"sklearn\\tree\\_tree.pyx\", line 739, in sklearn.tree._tree.Tree._add_node\n",
      "  File \"sklearn\\tree\\_tree.pyx\", line 711, in sklearn.tree._tree.Tree._resize_c\n",
      "  File \"sklearn\\tree\\_utils.pyx\", line 41, in sklearn.tree._utils.safe_realloc\n",
      "C:\\Users\\GreenBook\\AppData\\Roaming\\Python\\Python37\\site-packages\\ipykernel_launcher.py:24: DataConversionWarning: A column-vector y was passed when a 1d array was expected. Please change the shape of y to (n_samples,), for example using ravel().\n"
     ]
    },
    {
     "name": "stdout",
     "output_type": "stream",
     "text": [
      "[EXPECTED] MemoryError: could not allocate 231211008 bytes\n"
     ]
    },
    {
     "name": "stderr",
     "output_type": "stream",
     "text": [
      "  File \"<ipython-input-19-23eb34c12055>\", line 24, in rondom_forest_classification_impute\n",
      "    classifier.fit(x_temp, y_temp)\n",
      "  File \"C:\\Users\\GreenBook\\anaconda3\\lib\\site-packages\\sklearn\\ensemble\\_forest.py\", line 383, in fit\n",
      "    for i, t in enumerate(trees))\n",
      "  File \"C:\\Users\\GreenBook\\anaconda3\\lib\\site-packages\\joblib\\parallel.py\", line 1007, in __call__\n",
      "    while self.dispatch_one_batch(iterator):\n",
      "  File \"C:\\Users\\GreenBook\\anaconda3\\lib\\site-packages\\joblib\\parallel.py\", line 835, in dispatch_one_batch\n",
      "    self._dispatch(tasks)\n",
      "  File \"C:\\Users\\GreenBook\\anaconda3\\lib\\site-packages\\joblib\\parallel.py\", line 754, in _dispatch\n",
      "    job = self._backend.apply_async(batch, callback=cb)\n",
      "  File \"C:\\Users\\GreenBook\\anaconda3\\lib\\site-packages\\joblib\\_parallel_backends.py\", line 209, in apply_async\n",
      "    result = ImmediateResult(func)\n",
      "  File \"C:\\Users\\GreenBook\\anaconda3\\lib\\site-packages\\joblib\\_parallel_backends.py\", line 590, in __init__\n",
      "    self.results = batch()\n",
      "  File \"C:\\Users\\GreenBook\\anaconda3\\lib\\site-packages\\joblib\\parallel.py\", line 256, in __call__\n",
      "    for func, args, kwargs in self.items]\n",
      "  File \"C:\\Users\\GreenBook\\anaconda3\\lib\\site-packages\\joblib\\parallel.py\", line 256, in <listcomp>\n",
      "    for func, args, kwargs in self.items]\n",
      "  File \"C:\\Users\\GreenBook\\anaconda3\\lib\\site-packages\\sklearn\\ensemble\\_forest.py\", line 165, in _parallel_build_trees\n",
      "    tree.fit(X, y, sample_weight=curr_sample_weight, check_input=False)\n",
      "  File \"C:\\Users\\GreenBook\\anaconda3\\lib\\site-packages\\sklearn\\tree\\_classes.py\", line 877, in fit\n",
      "    X_idx_sorted=X_idx_sorted)\n",
      "  File \"C:\\Users\\GreenBook\\anaconda3\\lib\\site-packages\\sklearn\\tree\\_classes.py\", line 367, in fit\n",
      "    builder.build(self.tree_, X, y, sample_weight, X_idx_sorted)\n",
      "  File \"sklearn\\tree\\_tree.pyx\", line 146, in sklearn.tree._tree.DepthFirstTreeBuilder.build\n",
      "  File \"sklearn\\tree\\_tree.pyx\", line 244, in sklearn.tree._tree.DepthFirstTreeBuilder.build\n",
      "  File \"sklearn\\tree\\_tree.pyx\", line 739, in sklearn.tree._tree.Tree._add_node\n",
      "  File \"sklearn\\tree\\_tree.pyx\", line 711, in sklearn.tree._tree.Tree._resize_c\n",
      "  File \"sklearn\\tree\\_utils.pyx\", line 41, in sklearn.tree._utils.safe_realloc\n",
      "C:\\Users\\GreenBook\\AppData\\Roaming\\Python\\Python37\\site-packages\\ipykernel_launcher.py:24: DataConversionWarning: A column-vector y was passed when a 1d array was expected. Please change the shape of y to (n_samples,), for example using ravel().\n"
     ]
    },
    {
     "name": "stdout",
     "output_type": "stream",
     "text": [
      "[EXPECTED] MemoryError: could not allocate 231211008 bytes\n"
     ]
    },
    {
     "name": "stderr",
     "output_type": "stream",
     "text": [
      "  File \"<ipython-input-19-23eb34c12055>\", line 24, in rondom_forest_classification_impute\n",
      "    classifier.fit(x_temp, y_temp)\n",
      "  File \"C:\\Users\\GreenBook\\anaconda3\\lib\\site-packages\\sklearn\\ensemble\\_forest.py\", line 383, in fit\n",
      "    for i, t in enumerate(trees))\n",
      "  File \"C:\\Users\\GreenBook\\anaconda3\\lib\\site-packages\\joblib\\parallel.py\", line 1007, in __call__\n",
      "    while self.dispatch_one_batch(iterator):\n",
      "  File \"C:\\Users\\GreenBook\\anaconda3\\lib\\site-packages\\joblib\\parallel.py\", line 835, in dispatch_one_batch\n",
      "    self._dispatch(tasks)\n",
      "  File \"C:\\Users\\GreenBook\\anaconda3\\lib\\site-packages\\joblib\\parallel.py\", line 754, in _dispatch\n",
      "    job = self._backend.apply_async(batch, callback=cb)\n",
      "  File \"C:\\Users\\GreenBook\\anaconda3\\lib\\site-packages\\joblib\\_parallel_backends.py\", line 209, in apply_async\n",
      "    result = ImmediateResult(func)\n",
      "  File \"C:\\Users\\GreenBook\\anaconda3\\lib\\site-packages\\joblib\\_parallel_backends.py\", line 590, in __init__\n",
      "    self.results = batch()\n",
      "  File \"C:\\Users\\GreenBook\\anaconda3\\lib\\site-packages\\joblib\\parallel.py\", line 256, in __call__\n",
      "    for func, args, kwargs in self.items]\n",
      "  File \"C:\\Users\\GreenBook\\anaconda3\\lib\\site-packages\\joblib\\parallel.py\", line 256, in <listcomp>\n",
      "    for func, args, kwargs in self.items]\n",
      "  File \"C:\\Users\\GreenBook\\anaconda3\\lib\\site-packages\\sklearn\\ensemble\\_forest.py\", line 165, in _parallel_build_trees\n",
      "    tree.fit(X, y, sample_weight=curr_sample_weight, check_input=False)\n",
      "  File \"C:\\Users\\GreenBook\\anaconda3\\lib\\site-packages\\sklearn\\tree\\_classes.py\", line 877, in fit\n",
      "    X_idx_sorted=X_idx_sorted)\n",
      "  File \"C:\\Users\\GreenBook\\anaconda3\\lib\\site-packages\\sklearn\\tree\\_classes.py\", line 367, in fit\n",
      "    builder.build(self.tree_, X, y, sample_weight, X_idx_sorted)\n",
      "  File \"sklearn\\tree\\_tree.pyx\", line 146, in sklearn.tree._tree.DepthFirstTreeBuilder.build\n",
      "  File \"sklearn\\tree\\_tree.pyx\", line 244, in sklearn.tree._tree.DepthFirstTreeBuilder.build\n",
      "  File \"sklearn\\tree\\_tree.pyx\", line 739, in sklearn.tree._tree.Tree._add_node\n",
      "  File \"sklearn\\tree\\_tree.pyx\", line 711, in sklearn.tree._tree.Tree._resize_c\n",
      "  File \"sklearn\\tree\\_utils.pyx\", line 41, in sklearn.tree._utils.safe_realloc\n",
      "C:\\Users\\GreenBook\\AppData\\Roaming\\Python\\Python37\\site-packages\\ipykernel_launcher.py:24: DataConversionWarning: A column-vector y was passed when a 1d array was expected. Please change the shape of y to (n_samples,), for example using ravel().\n"
     ]
    },
    {
     "name": "stdout",
     "output_type": "stream",
     "text": [
      "[EXPECTED] MemoryError: could not allocate 231211008 bytes\n"
     ]
    },
    {
     "name": "stderr",
     "output_type": "stream",
     "text": [
      "  File \"<ipython-input-19-23eb34c12055>\", line 24, in rondom_forest_classification_impute\n",
      "    classifier.fit(x_temp, y_temp)\n",
      "  File \"C:\\Users\\GreenBook\\anaconda3\\lib\\site-packages\\sklearn\\ensemble\\_forest.py\", line 383, in fit\n",
      "    for i, t in enumerate(trees))\n",
      "  File \"C:\\Users\\GreenBook\\anaconda3\\lib\\site-packages\\joblib\\parallel.py\", line 1007, in __call__\n",
      "    while self.dispatch_one_batch(iterator):\n",
      "  File \"C:\\Users\\GreenBook\\anaconda3\\lib\\site-packages\\joblib\\parallel.py\", line 835, in dispatch_one_batch\n",
      "    self._dispatch(tasks)\n",
      "  File \"C:\\Users\\GreenBook\\anaconda3\\lib\\site-packages\\joblib\\parallel.py\", line 754, in _dispatch\n",
      "    job = self._backend.apply_async(batch, callback=cb)\n",
      "  File \"C:\\Users\\GreenBook\\anaconda3\\lib\\site-packages\\joblib\\_parallel_backends.py\", line 209, in apply_async\n",
      "    result = ImmediateResult(func)\n",
      "  File \"C:\\Users\\GreenBook\\anaconda3\\lib\\site-packages\\joblib\\_parallel_backends.py\", line 590, in __init__\n",
      "    self.results = batch()\n",
      "  File \"C:\\Users\\GreenBook\\anaconda3\\lib\\site-packages\\joblib\\parallel.py\", line 256, in __call__\n",
      "    for func, args, kwargs in self.items]\n",
      "  File \"C:\\Users\\GreenBook\\anaconda3\\lib\\site-packages\\joblib\\parallel.py\", line 256, in <listcomp>\n",
      "    for func, args, kwargs in self.items]\n",
      "  File \"C:\\Users\\GreenBook\\anaconda3\\lib\\site-packages\\sklearn\\ensemble\\_forest.py\", line 165, in _parallel_build_trees\n",
      "    tree.fit(X, y, sample_weight=curr_sample_weight, check_input=False)\n",
      "  File \"C:\\Users\\GreenBook\\anaconda3\\lib\\site-packages\\sklearn\\tree\\_classes.py\", line 877, in fit\n",
      "    X_idx_sorted=X_idx_sorted)\n",
      "  File \"C:\\Users\\GreenBook\\anaconda3\\lib\\site-packages\\sklearn\\tree\\_classes.py\", line 367, in fit\n",
      "    builder.build(self.tree_, X, y, sample_weight, X_idx_sorted)\n",
      "  File \"sklearn\\tree\\_tree.pyx\", line 146, in sklearn.tree._tree.DepthFirstTreeBuilder.build\n",
      "  File \"sklearn\\tree\\_tree.pyx\", line 244, in sklearn.tree._tree.DepthFirstTreeBuilder.build\n",
      "  File \"sklearn\\tree\\_tree.pyx\", line 739, in sklearn.tree._tree.Tree._add_node\n",
      "  File \"sklearn\\tree\\_tree.pyx\", line 711, in sklearn.tree._tree.Tree._resize_c\n",
      "  File \"sklearn\\tree\\_utils.pyx\", line 41, in sklearn.tree._utils.safe_realloc\n",
      "C:\\Users\\GreenBook\\AppData\\Roaming\\Python\\Python37\\site-packages\\ipykernel_launcher.py:24: DataConversionWarning: A column-vector y was passed when a 1d array was expected. Please change the shape of y to (n_samples,), for example using ravel().\n"
     ]
    },
    {
     "name": "stdout",
     "output_type": "stream",
     "text": [
      "[EXPECTED] MemoryError: could not allocate 231211008 bytes\n"
     ]
    },
    {
     "name": "stderr",
     "output_type": "stream",
     "text": [
      "  File \"<ipython-input-19-23eb34c12055>\", line 24, in rondom_forest_classification_impute\n",
      "    classifier.fit(x_temp, y_temp)\n",
      "  File \"C:\\Users\\GreenBook\\anaconda3\\lib\\site-packages\\sklearn\\ensemble\\_forest.py\", line 383, in fit\n",
      "    for i, t in enumerate(trees))\n",
      "  File \"C:\\Users\\GreenBook\\anaconda3\\lib\\site-packages\\joblib\\parallel.py\", line 1007, in __call__\n",
      "    while self.dispatch_one_batch(iterator):\n",
      "  File \"C:\\Users\\GreenBook\\anaconda3\\lib\\site-packages\\joblib\\parallel.py\", line 835, in dispatch_one_batch\n",
      "    self._dispatch(tasks)\n",
      "  File \"C:\\Users\\GreenBook\\anaconda3\\lib\\site-packages\\joblib\\parallel.py\", line 754, in _dispatch\n",
      "    job = self._backend.apply_async(batch, callback=cb)\n",
      "  File \"C:\\Users\\GreenBook\\anaconda3\\lib\\site-packages\\joblib\\_parallel_backends.py\", line 209, in apply_async\n",
      "    result = ImmediateResult(func)\n",
      "  File \"C:\\Users\\GreenBook\\anaconda3\\lib\\site-packages\\joblib\\_parallel_backends.py\", line 590, in __init__\n",
      "    self.results = batch()\n",
      "  File \"C:\\Users\\GreenBook\\anaconda3\\lib\\site-packages\\joblib\\parallel.py\", line 256, in __call__\n",
      "    for func, args, kwargs in self.items]\n",
      "  File \"C:\\Users\\GreenBook\\anaconda3\\lib\\site-packages\\joblib\\parallel.py\", line 256, in <listcomp>\n",
      "    for func, args, kwargs in self.items]\n",
      "  File \"C:\\Users\\GreenBook\\anaconda3\\lib\\site-packages\\sklearn\\ensemble\\_forest.py\", line 165, in _parallel_build_trees\n",
      "    tree.fit(X, y, sample_weight=curr_sample_weight, check_input=False)\n",
      "  File \"C:\\Users\\GreenBook\\anaconda3\\lib\\site-packages\\sklearn\\tree\\_classes.py\", line 877, in fit\n",
      "    X_idx_sorted=X_idx_sorted)\n",
      "  File \"C:\\Users\\GreenBook\\anaconda3\\lib\\site-packages\\sklearn\\tree\\_classes.py\", line 367, in fit\n",
      "    builder.build(self.tree_, X, y, sample_weight, X_idx_sorted)\n",
      "  File \"sklearn\\tree\\_tree.pyx\", line 146, in sklearn.tree._tree.DepthFirstTreeBuilder.build\n",
      "  File \"sklearn\\tree\\_tree.pyx\", line 244, in sklearn.tree._tree.DepthFirstTreeBuilder.build\n",
      "  File \"sklearn\\tree\\_tree.pyx\", line 739, in sklearn.tree._tree.Tree._add_node\n",
      "  File \"sklearn\\tree\\_tree.pyx\", line 711, in sklearn.tree._tree.Tree._resize_c\n",
      "  File \"sklearn\\tree\\_utils.pyx\", line 41, in sklearn.tree._utils.safe_realloc\n",
      "C:\\Users\\GreenBook\\AppData\\Roaming\\Python\\Python37\\site-packages\\ipykernel_launcher.py:24: DataConversionWarning: A column-vector y was passed when a 1d array was expected. Please change the shape of y to (n_samples,), for example using ravel().\n"
     ]
    },
    {
     "name": "stdout",
     "output_type": "stream",
     "text": [
      "[EXPECTED] MemoryError: could not allocate 231211008 bytes\n"
     ]
    },
    {
     "name": "stderr",
     "output_type": "stream",
     "text": [
      "  File \"<ipython-input-19-23eb34c12055>\", line 24, in rondom_forest_classification_impute\n",
      "    classifier.fit(x_temp, y_temp)\n",
      "  File \"C:\\Users\\GreenBook\\anaconda3\\lib\\site-packages\\sklearn\\ensemble\\_forest.py\", line 383, in fit\n",
      "    for i, t in enumerate(trees))\n",
      "  File \"C:\\Users\\GreenBook\\anaconda3\\lib\\site-packages\\joblib\\parallel.py\", line 1007, in __call__\n",
      "    while self.dispatch_one_batch(iterator):\n",
      "  File \"C:\\Users\\GreenBook\\anaconda3\\lib\\site-packages\\joblib\\parallel.py\", line 835, in dispatch_one_batch\n",
      "    self._dispatch(tasks)\n",
      "  File \"C:\\Users\\GreenBook\\anaconda3\\lib\\site-packages\\joblib\\parallel.py\", line 754, in _dispatch\n",
      "    job = self._backend.apply_async(batch, callback=cb)\n",
      "  File \"C:\\Users\\GreenBook\\anaconda3\\lib\\site-packages\\joblib\\_parallel_backends.py\", line 209, in apply_async\n",
      "    result = ImmediateResult(func)\n",
      "  File \"C:\\Users\\GreenBook\\anaconda3\\lib\\site-packages\\joblib\\_parallel_backends.py\", line 590, in __init__\n",
      "    self.results = batch()\n",
      "  File \"C:\\Users\\GreenBook\\anaconda3\\lib\\site-packages\\joblib\\parallel.py\", line 256, in __call__\n",
      "    for func, args, kwargs in self.items]\n",
      "  File \"C:\\Users\\GreenBook\\anaconda3\\lib\\site-packages\\joblib\\parallel.py\", line 256, in <listcomp>\n",
      "    for func, args, kwargs in self.items]\n",
      "  File \"C:\\Users\\GreenBook\\anaconda3\\lib\\site-packages\\sklearn\\ensemble\\_forest.py\", line 165, in _parallel_build_trees\n",
      "    tree.fit(X, y, sample_weight=curr_sample_weight, check_input=False)\n",
      "  File \"C:\\Users\\GreenBook\\anaconda3\\lib\\site-packages\\sklearn\\tree\\_classes.py\", line 877, in fit\n",
      "    X_idx_sorted=X_idx_sorted)\n",
      "  File \"C:\\Users\\GreenBook\\anaconda3\\lib\\site-packages\\sklearn\\tree\\_classes.py\", line 367, in fit\n",
      "    builder.build(self.tree_, X, y, sample_weight, X_idx_sorted)\n",
      "  File \"sklearn\\tree\\_tree.pyx\", line 146, in sklearn.tree._tree.DepthFirstTreeBuilder.build\n",
      "  File \"sklearn\\tree\\_tree.pyx\", line 244, in sklearn.tree._tree.DepthFirstTreeBuilder.build\n",
      "  File \"sklearn\\tree\\_tree.pyx\", line 739, in sklearn.tree._tree.Tree._add_node\n",
      "  File \"sklearn\\tree\\_tree.pyx\", line 711, in sklearn.tree._tree.Tree._resize_c\n",
      "  File \"sklearn\\tree\\_utils.pyx\", line 41, in sklearn.tree._utils.safe_realloc\n",
      "C:\\Users\\GreenBook\\AppData\\Roaming\\Python\\Python37\\site-packages\\ipykernel_launcher.py:24: DataConversionWarning: A column-vector y was passed when a 1d array was expected. Please change the shape of y to (n_samples,), for example using ravel().\n"
     ]
    },
    {
     "name": "stdout",
     "output_type": "stream",
     "text": [
      "[EXPECTED] MemoryError: could not allocate 231211008 bytes\n"
     ]
    },
    {
     "name": "stderr",
     "output_type": "stream",
     "text": [
      "  File \"<ipython-input-19-23eb34c12055>\", line 24, in rondom_forest_classification_impute\n",
      "    classifier.fit(x_temp, y_temp)\n",
      "  File \"C:\\Users\\GreenBook\\anaconda3\\lib\\site-packages\\sklearn\\ensemble\\_forest.py\", line 383, in fit\n",
      "    for i, t in enumerate(trees))\n",
      "  File \"C:\\Users\\GreenBook\\anaconda3\\lib\\site-packages\\joblib\\parallel.py\", line 1007, in __call__\n",
      "    while self.dispatch_one_batch(iterator):\n",
      "  File \"C:\\Users\\GreenBook\\anaconda3\\lib\\site-packages\\joblib\\parallel.py\", line 835, in dispatch_one_batch\n",
      "    self._dispatch(tasks)\n",
      "  File \"C:\\Users\\GreenBook\\anaconda3\\lib\\site-packages\\joblib\\parallel.py\", line 754, in _dispatch\n",
      "    job = self._backend.apply_async(batch, callback=cb)\n",
      "  File \"C:\\Users\\GreenBook\\anaconda3\\lib\\site-packages\\joblib\\_parallel_backends.py\", line 209, in apply_async\n",
      "    result = ImmediateResult(func)\n",
      "  File \"C:\\Users\\GreenBook\\anaconda3\\lib\\site-packages\\joblib\\_parallel_backends.py\", line 590, in __init__\n",
      "    self.results = batch()\n",
      "  File \"C:\\Users\\GreenBook\\anaconda3\\lib\\site-packages\\joblib\\parallel.py\", line 256, in __call__\n",
      "    for func, args, kwargs in self.items]\n",
      "  File \"C:\\Users\\GreenBook\\anaconda3\\lib\\site-packages\\joblib\\parallel.py\", line 256, in <listcomp>\n",
      "    for func, args, kwargs in self.items]\n",
      "  File \"C:\\Users\\GreenBook\\anaconda3\\lib\\site-packages\\sklearn\\ensemble\\_forest.py\", line 165, in _parallel_build_trees\n",
      "    tree.fit(X, y, sample_weight=curr_sample_weight, check_input=False)\n",
      "  File \"C:\\Users\\GreenBook\\anaconda3\\lib\\site-packages\\sklearn\\tree\\_classes.py\", line 877, in fit\n",
      "    X_idx_sorted=X_idx_sorted)\n",
      "  File \"C:\\Users\\GreenBook\\anaconda3\\lib\\site-packages\\sklearn\\tree\\_classes.py\", line 367, in fit\n",
      "    builder.build(self.tree_, X, y, sample_weight, X_idx_sorted)\n",
      "  File \"sklearn\\tree\\_tree.pyx\", line 146, in sklearn.tree._tree.DepthFirstTreeBuilder.build\n",
      "  File \"sklearn\\tree\\_tree.pyx\", line 244, in sklearn.tree._tree.DepthFirstTreeBuilder.build\n",
      "  File \"sklearn\\tree\\_tree.pyx\", line 739, in sklearn.tree._tree.Tree._add_node\n",
      "  File \"sklearn\\tree\\_tree.pyx\", line 711, in sklearn.tree._tree.Tree._resize_c\n",
      "  File \"sklearn\\tree\\_utils.pyx\", line 41, in sklearn.tree._utils.safe_realloc\n",
      "C:\\Users\\GreenBook\\AppData\\Roaming\\Python\\Python37\\site-packages\\ipykernel_launcher.py:24: DataConversionWarning: A column-vector y was passed when a 1d array was expected. Please change the shape of y to (n_samples,), for example using ravel().\n"
     ]
    },
    {
     "name": "stdout",
     "output_type": "stream",
     "text": [
      "[EXPECTED] MemoryError: could not allocate 231211008 bytes\n"
     ]
    },
    {
     "name": "stderr",
     "output_type": "stream",
     "text": [
      "  File \"<ipython-input-19-23eb34c12055>\", line 24, in rondom_forest_classification_impute\n",
      "    classifier.fit(x_temp, y_temp)\n",
      "  File \"C:\\Users\\GreenBook\\anaconda3\\lib\\site-packages\\sklearn\\ensemble\\_forest.py\", line 383, in fit\n",
      "    for i, t in enumerate(trees))\n",
      "  File \"C:\\Users\\GreenBook\\anaconda3\\lib\\site-packages\\joblib\\parallel.py\", line 1007, in __call__\n",
      "    while self.dispatch_one_batch(iterator):\n",
      "  File \"C:\\Users\\GreenBook\\anaconda3\\lib\\site-packages\\joblib\\parallel.py\", line 835, in dispatch_one_batch\n",
      "    self._dispatch(tasks)\n",
      "  File \"C:\\Users\\GreenBook\\anaconda3\\lib\\site-packages\\joblib\\parallel.py\", line 754, in _dispatch\n",
      "    job = self._backend.apply_async(batch, callback=cb)\n",
      "  File \"C:\\Users\\GreenBook\\anaconda3\\lib\\site-packages\\joblib\\_parallel_backends.py\", line 209, in apply_async\n",
      "    result = ImmediateResult(func)\n",
      "  File \"C:\\Users\\GreenBook\\anaconda3\\lib\\site-packages\\joblib\\_parallel_backends.py\", line 590, in __init__\n",
      "    self.results = batch()\n",
      "  File \"C:\\Users\\GreenBook\\anaconda3\\lib\\site-packages\\joblib\\parallel.py\", line 256, in __call__\n",
      "    for func, args, kwargs in self.items]\n",
      "  File \"C:\\Users\\GreenBook\\anaconda3\\lib\\site-packages\\joblib\\parallel.py\", line 256, in <listcomp>\n",
      "    for func, args, kwargs in self.items]\n",
      "  File \"C:\\Users\\GreenBook\\anaconda3\\lib\\site-packages\\sklearn\\ensemble\\_forest.py\", line 165, in _parallel_build_trees\n",
      "    tree.fit(X, y, sample_weight=curr_sample_weight, check_input=False)\n",
      "  File \"C:\\Users\\GreenBook\\anaconda3\\lib\\site-packages\\sklearn\\tree\\_classes.py\", line 877, in fit\n",
      "    X_idx_sorted=X_idx_sorted)\n",
      "  File \"C:\\Users\\GreenBook\\anaconda3\\lib\\site-packages\\sklearn\\tree\\_classes.py\", line 367, in fit\n",
      "    builder.build(self.tree_, X, y, sample_weight, X_idx_sorted)\n",
      "  File \"sklearn\\tree\\_tree.pyx\", line 146, in sklearn.tree._tree.DepthFirstTreeBuilder.build\n",
      "  File \"sklearn\\tree\\_tree.pyx\", line 244, in sklearn.tree._tree.DepthFirstTreeBuilder.build\n",
      "  File \"sklearn\\tree\\_tree.pyx\", line 739, in sklearn.tree._tree.Tree._add_node\n",
      "  File \"sklearn\\tree\\_tree.pyx\", line 711, in sklearn.tree._tree.Tree._resize_c\n",
      "  File \"sklearn\\tree\\_utils.pyx\", line 41, in sklearn.tree._utils.safe_realloc\n",
      "C:\\Users\\GreenBook\\AppData\\Roaming\\Python\\Python37\\site-packages\\ipykernel_launcher.py:43: DataConversionWarning: A column-vector y was passed when a 1d array was expected. Please change the shape of y to (n_samples,), for example using ravel().\n"
     ]
    }
   ],
   "source": [
    "rondom_forest_classification_impute(var.application_record)"
   ]
  },
  {
   "cell_type": "code",
   "execution_count": 57,
   "metadata": {},
   "outputs": [
    {
     "data": {
      "text/html": [
       "<table border=\"1\" class=\"dataframe\">\n",
       "  <thead>\n",
       "    <tr style=\"text-align: left;\">\n",
       "      <th>epoch</th>\n",
       "      <th>train_loss</th>\n",
       "      <th>valid_loss</th>\n",
       "      <th>accuracy</th>\n",
       "      <th>time</th>\n",
       "    </tr>\n",
       "  </thead>\n",
       "  <tbody>\n",
       "    <tr>\n",
       "      <td>0</td>\n",
       "      <td>44920344576.000000</td>\n",
       "      <td>45871644672.000000</td>\n",
       "      <td>0.000000</td>\n",
       "      <td>01:33</td>\n",
       "    </tr>\n",
       "  </tbody>\n",
       "</table>"
      ],
      "text/plain": [
       "<IPython.core.display.HTML object>"
      ]
     },
     "metadata": {},
     "output_type": "display_data"
    },
    {
     "ename": "AttributeError",
     "evalue": "'str' object has no attribute 'func'",
     "output_type": "error",
     "traceback": [
      "\u001b[1;31m---------------------------------------------------------------------------\u001b[0m",
      "\u001b[1;31mAttributeError\u001b[0m                            Traceback (most recent call last)",
      "\u001b[1;32m<ipython-input-57-d273cfe97fa8>\u001b[0m in \u001b[0;36m<module>\u001b[1;34m\u001b[0m\n\u001b[1;32m----> 1\u001b[1;33m \u001b[0mneuronal_network_impute\u001b[0m\u001b[1;33m(\u001b[0m\u001b[0mvar\u001b[0m\u001b[1;33m.\u001b[0m\u001b[0mapplication_record\u001b[0m\u001b[1;33m)\u001b[0m\u001b[1;33m\u001b[0m\u001b[1;33m\u001b[0m\u001b[0m\n\u001b[0m",
      "\u001b[1;32m<ipython-input-55-bc78189fbc06>\u001b[0m in \u001b[0;36mneuronal_network_impute\u001b[1;34m(column_set)\u001b[0m\n\u001b[0;32m     58\u001b[0m             \u001b[0mlearn\u001b[0m \u001b[1;33m=\u001b[0m \u001b[0mload_learner\u001b[0m\u001b[1;33m(\u001b[0m\u001b[0mtrain_path\u001b[0m\u001b[1;33m)\u001b[0m\u001b[1;33m\u001b[0m\u001b[1;33m\u001b[0m\u001b[0m\n\u001b[0;32m     59\u001b[0m \u001b[1;33m\u001b[0m\u001b[0m\n\u001b[1;32m---> 60\u001b[1;33m             \u001b[0mprint\u001b[0m\u001b[1;33m(\u001b[0m\u001b[0mtype\u001b[0m\u001b[1;33m(\u001b[0m\u001b[0mlearn\u001b[0m\u001b[1;33m.\u001b[0m\u001b[0mvalidate\u001b[0m\u001b[1;33m(\u001b[0m \u001b[0mdl\u001b[0m\u001b[1;33m=\u001b[0m\u001b[0mlearn\u001b[0m\u001b[1;33m.\u001b[0m\u001b[0mdata\u001b[0m\u001b[1;33m.\u001b[0m\u001b[0mtrain_dl\u001b[0m\u001b[1;33m,\u001b[0m\u001b[0mmetrics\u001b[0m\u001b[1;33m=\u001b[0m\u001b[0mvar_metric\u001b[0m\u001b[1;33m)\u001b[0m\u001b[1;33m)\u001b[0m\u001b[1;33m)\u001b[0m\u001b[1;33m\u001b[0m\u001b[1;33m\u001b[0m\u001b[0m\n\u001b[0m\u001b[0;32m     61\u001b[0m             \u001b[0mprint\u001b[0m\u001b[1;33m(\u001b[0m \u001b[0mlearn\u001b[0m\u001b[1;33m.\u001b[0m\u001b[0mvalidate\u001b[0m\u001b[1;33m(\u001b[0m \u001b[0mdl\u001b[0m\u001b[1;33m=\u001b[0m\u001b[0mlearn\u001b[0m\u001b[1;33m.\u001b[0m\u001b[0mdata\u001b[0m\u001b[1;33m.\u001b[0m\u001b[0mtrain_dl\u001b[0m\u001b[1;33m,\u001b[0m\u001b[0mmetrics\u001b[0m\u001b[1;33m=\u001b[0m\u001b[0mvar_metric\u001b[0m\u001b[1;33m)\u001b[0m\u001b[1;33m)\u001b[0m\u001b[1;33m\u001b[0m\u001b[1;33m\u001b[0m\u001b[0m\n\u001b[0;32m     62\u001b[0m             \u001b[0mvalues\u001b[0m \u001b[1;33m=\u001b[0m \u001b[0mnp\u001b[0m\u001b[1;33m.\u001b[0m\u001b[0marray\u001b[0m\u001b[1;33m(\u001b[0m\u001b[1;33m[\u001b[0m\u001b[0mvar\u001b[0m\u001b[1;33m.\u001b[0m\u001b[0mmethode_9\u001b[0m \u001b[1;33m,\u001b[0m\u001b[0mvar_metric\u001b[0m\u001b[1;33m,\u001b[0m \u001b[0mcolumn\u001b[0m\u001b[1;33m]\u001b[0m\u001b[1;33m)\u001b[0m\u001b[1;33m\u001b[0m\u001b[1;33m\u001b[0m\u001b[0m\n",
      "\u001b[1;32m~\\anaconda3\\lib\\site-packages\\fastai\\basic_train.py\u001b[0m in \u001b[0;36mvalidate\u001b[1;34m(self, dl, callbacks, metrics)\u001b[0m\n\u001b[0;32m    387\u001b[0m         \u001b[0mdl\u001b[0m \u001b[1;33m=\u001b[0m \u001b[0mifnone\u001b[0m\u001b[1;33m(\u001b[0m\u001b[0mdl\u001b[0m\u001b[1;33m,\u001b[0m \u001b[0mself\u001b[0m\u001b[1;33m.\u001b[0m\u001b[0mdata\u001b[0m\u001b[1;33m.\u001b[0m\u001b[0mvalid_dl\u001b[0m\u001b[1;33m)\u001b[0m\u001b[1;33m\u001b[0m\u001b[1;33m\u001b[0m\u001b[0m\n\u001b[0;32m    388\u001b[0m         \u001b[0mmetrics\u001b[0m \u001b[1;33m=\u001b[0m \u001b[0mifnone\u001b[0m\u001b[1;33m(\u001b[0m\u001b[0mmetrics\u001b[0m\u001b[1;33m,\u001b[0m \u001b[0mself\u001b[0m\u001b[1;33m.\u001b[0m\u001b[0mmetrics\u001b[0m\u001b[1;33m)\u001b[0m\u001b[1;33m\u001b[0m\u001b[1;33m\u001b[0m\u001b[0m\n\u001b[1;32m--> 389\u001b[1;33m         \u001b[0mcb_handler\u001b[0m \u001b[1;33m=\u001b[0m \u001b[0mCallbackHandler\u001b[0m\u001b[1;33m(\u001b[0m\u001b[0mself\u001b[0m\u001b[1;33m.\u001b[0m\u001b[0mcallbacks\u001b[0m \u001b[1;33m+\u001b[0m \u001b[0mifnone\u001b[0m\u001b[1;33m(\u001b[0m\u001b[0mcallbacks\u001b[0m\u001b[1;33m,\u001b[0m \u001b[1;33m[\u001b[0m\u001b[1;33m]\u001b[0m\u001b[1;33m)\u001b[0m\u001b[1;33m,\u001b[0m \u001b[0mmetrics\u001b[0m\u001b[1;33m)\u001b[0m\u001b[1;33m\u001b[0m\u001b[1;33m\u001b[0m\u001b[0m\n\u001b[0m\u001b[0;32m    390\u001b[0m         \u001b[0mcb_handler\u001b[0m\u001b[1;33m.\u001b[0m\u001b[0mon_train_begin\u001b[0m\u001b[1;33m(\u001b[0m\u001b[1;36m1\u001b[0m\u001b[1;33m,\u001b[0m \u001b[1;32mNone\u001b[0m\u001b[1;33m,\u001b[0m \u001b[0mmetrics\u001b[0m\u001b[1;33m)\u001b[0m\u001b[1;33m;\u001b[0m \u001b[0mcb_handler\u001b[0m\u001b[1;33m.\u001b[0m\u001b[0mon_epoch_begin\u001b[0m\u001b[1;33m(\u001b[0m\u001b[1;33m)\u001b[0m\u001b[1;33m\u001b[0m\u001b[1;33m\u001b[0m\u001b[0m\n\u001b[0;32m    391\u001b[0m         \u001b[0mval_metrics\u001b[0m \u001b[1;33m=\u001b[0m \u001b[0mvalidate\u001b[0m\u001b[1;33m(\u001b[0m\u001b[0mself\u001b[0m\u001b[1;33m.\u001b[0m\u001b[0mmodel\u001b[0m\u001b[1;33m,\u001b[0m \u001b[0mdl\u001b[0m\u001b[1;33m,\u001b[0m \u001b[0mself\u001b[0m\u001b[1;33m.\u001b[0m\u001b[0mloss_func\u001b[0m\u001b[1;33m,\u001b[0m \u001b[0mcb_handler\u001b[0m\u001b[1;33m)\u001b[0m\u001b[1;33m\u001b[0m\u001b[1;33m\u001b[0m\u001b[0m\n",
      "\u001b[1;32m~\\anaconda3\\lib\\site-packages\\fastai\\callback.py\u001b[0m in \u001b[0;36m__init__\u001b[1;34m(self, callbacks, metrics, beta)\u001b[0m\n",
      "\u001b[1;32m~\\anaconda3\\lib\\site-packages\\fastai\\callback.py\u001b[0m in \u001b[0;36m__post_init__\u001b[1;34m(self)\u001b[0m\n\u001b[0;32m    232\u001b[0m         \u001b[0mself\u001b[0m\u001b[1;33m.\u001b[0m\u001b[0mcallbacks\u001b[0m \u001b[1;33m=\u001b[0m \u001b[0mifnone\u001b[0m\u001b[1;33m(\u001b[0m\u001b[0mself\u001b[0m\u001b[1;33m.\u001b[0m\u001b[0mcallbacks\u001b[0m\u001b[1;33m,\u001b[0m \u001b[1;33m[\u001b[0m\u001b[1;33m]\u001b[0m\u001b[1;33m)\u001b[0m\u001b[1;33m\u001b[0m\u001b[1;33m\u001b[0m\u001b[0m\n\u001b[0;32m    233\u001b[0m         \u001b[0mself\u001b[0m\u001b[1;33m.\u001b[0m\u001b[0mmetrics\u001b[0m \u001b[1;33m=\u001b[0m \u001b[0mifnone\u001b[0m\u001b[1;33m(\u001b[0m\u001b[0mself\u001b[0m\u001b[1;33m.\u001b[0m\u001b[0mmetrics\u001b[0m\u001b[1;33m,\u001b[0m \u001b[1;33m[\u001b[0m\u001b[1;33m]\u001b[0m\u001b[1;33m)\u001b[0m\u001b[1;33m\u001b[0m\u001b[1;33m\u001b[0m\u001b[0m\n\u001b[1;32m--> 234\u001b[1;33m         \u001b[0mself\u001b[0m\u001b[1;33m.\u001b[0m\u001b[0mmetrics\u001b[0m \u001b[1;33m=\u001b[0m \u001b[1;33m[\u001b[0m\u001b[1;33m(\u001b[0m\u001b[0mmet\u001b[0m \u001b[1;32mif\u001b[0m \u001b[0misinstance\u001b[0m\u001b[1;33m(\u001b[0m\u001b[0mmet\u001b[0m\u001b[1;33m,\u001b[0m \u001b[0mCallback\u001b[0m\u001b[1;33m)\u001b[0m \u001b[1;32melse\u001b[0m \u001b[0mAverageMetric\u001b[0m\u001b[1;33m(\u001b[0m\u001b[0mmet\u001b[0m\u001b[1;33m)\u001b[0m\u001b[1;33m)\u001b[0m \u001b[1;32mfor\u001b[0m \u001b[0mmet\u001b[0m \u001b[1;32min\u001b[0m \u001b[0mself\u001b[0m\u001b[1;33m.\u001b[0m\u001b[0mmetrics\u001b[0m\u001b[1;33m]\u001b[0m\u001b[1;33m\u001b[0m\u001b[1;33m\u001b[0m\u001b[0m\n\u001b[0m\u001b[0;32m    235\u001b[0m         \u001b[0mself\u001b[0m\u001b[1;33m.\u001b[0m\u001b[0mcallbacks\u001b[0m \u001b[1;33m=\u001b[0m \u001b[0msorted\u001b[0m\u001b[1;33m(\u001b[0m\u001b[0mself\u001b[0m\u001b[1;33m.\u001b[0m\u001b[0mcallbacks\u001b[0m\u001b[1;33m,\u001b[0m \u001b[0mkey\u001b[0m\u001b[1;33m=\u001b[0m\u001b[1;32mlambda\u001b[0m \u001b[0mo\u001b[0m\u001b[1;33m:\u001b[0m \u001b[0mgetattr\u001b[0m\u001b[1;33m(\u001b[0m\u001b[0mo\u001b[0m\u001b[1;33m,\u001b[0m \u001b[1;34m'_order'\u001b[0m\u001b[1;33m,\u001b[0m \u001b[1;36m0\u001b[0m\u001b[1;33m)\u001b[0m\u001b[1;33m)\u001b[0m\u001b[1;33m\u001b[0m\u001b[1;33m\u001b[0m\u001b[0m\n\u001b[0;32m    236\u001b[0m         \u001b[0mself\u001b[0m\u001b[1;33m.\u001b[0m\u001b[0msmoothener\u001b[0m \u001b[1;33m=\u001b[0m \u001b[0mSmoothenValue\u001b[0m\u001b[1;33m(\u001b[0m\u001b[0mself\u001b[0m\u001b[1;33m.\u001b[0m\u001b[0mbeta\u001b[0m\u001b[1;33m)\u001b[0m\u001b[1;33m\u001b[0m\u001b[1;33m\u001b[0m\u001b[0m\n",
      "\u001b[1;32m~\\anaconda3\\lib\\site-packages\\fastai\\callback.py\u001b[0m in \u001b[0;36m<listcomp>\u001b[1;34m(.0)\u001b[0m\n\u001b[0;32m    232\u001b[0m         \u001b[0mself\u001b[0m\u001b[1;33m.\u001b[0m\u001b[0mcallbacks\u001b[0m \u001b[1;33m=\u001b[0m \u001b[0mifnone\u001b[0m\u001b[1;33m(\u001b[0m\u001b[0mself\u001b[0m\u001b[1;33m.\u001b[0m\u001b[0mcallbacks\u001b[0m\u001b[1;33m,\u001b[0m \u001b[1;33m[\u001b[0m\u001b[1;33m]\u001b[0m\u001b[1;33m)\u001b[0m\u001b[1;33m\u001b[0m\u001b[1;33m\u001b[0m\u001b[0m\n\u001b[0;32m    233\u001b[0m         \u001b[0mself\u001b[0m\u001b[1;33m.\u001b[0m\u001b[0mmetrics\u001b[0m \u001b[1;33m=\u001b[0m \u001b[0mifnone\u001b[0m\u001b[1;33m(\u001b[0m\u001b[0mself\u001b[0m\u001b[1;33m.\u001b[0m\u001b[0mmetrics\u001b[0m\u001b[1;33m,\u001b[0m \u001b[1;33m[\u001b[0m\u001b[1;33m]\u001b[0m\u001b[1;33m)\u001b[0m\u001b[1;33m\u001b[0m\u001b[1;33m\u001b[0m\u001b[0m\n\u001b[1;32m--> 234\u001b[1;33m         \u001b[0mself\u001b[0m\u001b[1;33m.\u001b[0m\u001b[0mmetrics\u001b[0m \u001b[1;33m=\u001b[0m \u001b[1;33m[\u001b[0m\u001b[1;33m(\u001b[0m\u001b[0mmet\u001b[0m \u001b[1;32mif\u001b[0m \u001b[0misinstance\u001b[0m\u001b[1;33m(\u001b[0m\u001b[0mmet\u001b[0m\u001b[1;33m,\u001b[0m \u001b[0mCallback\u001b[0m\u001b[1;33m)\u001b[0m \u001b[1;32melse\u001b[0m \u001b[0mAverageMetric\u001b[0m\u001b[1;33m(\u001b[0m\u001b[0mmet\u001b[0m\u001b[1;33m)\u001b[0m\u001b[1;33m)\u001b[0m \u001b[1;32mfor\u001b[0m \u001b[0mmet\u001b[0m \u001b[1;32min\u001b[0m \u001b[0mself\u001b[0m\u001b[1;33m.\u001b[0m\u001b[0mmetrics\u001b[0m\u001b[1;33m]\u001b[0m\u001b[1;33m\u001b[0m\u001b[1;33m\u001b[0m\u001b[0m\n\u001b[0m\u001b[0;32m    235\u001b[0m         \u001b[0mself\u001b[0m\u001b[1;33m.\u001b[0m\u001b[0mcallbacks\u001b[0m \u001b[1;33m=\u001b[0m \u001b[0msorted\u001b[0m\u001b[1;33m(\u001b[0m\u001b[0mself\u001b[0m\u001b[1;33m.\u001b[0m\u001b[0mcallbacks\u001b[0m\u001b[1;33m,\u001b[0m \u001b[0mkey\u001b[0m\u001b[1;33m=\u001b[0m\u001b[1;32mlambda\u001b[0m \u001b[0mo\u001b[0m\u001b[1;33m:\u001b[0m \u001b[0mgetattr\u001b[0m\u001b[1;33m(\u001b[0m\u001b[0mo\u001b[0m\u001b[1;33m,\u001b[0m \u001b[1;34m'_order'\u001b[0m\u001b[1;33m,\u001b[0m \u001b[1;36m0\u001b[0m\u001b[1;33m)\u001b[0m\u001b[1;33m)\u001b[0m\u001b[1;33m\u001b[0m\u001b[1;33m\u001b[0m\u001b[0m\n\u001b[0;32m    236\u001b[0m         \u001b[0mself\u001b[0m\u001b[1;33m.\u001b[0m\u001b[0msmoothener\u001b[0m \u001b[1;33m=\u001b[0m \u001b[0mSmoothenValue\u001b[0m\u001b[1;33m(\u001b[0m\u001b[0mself\u001b[0m\u001b[1;33m.\u001b[0m\u001b[0mbeta\u001b[0m\u001b[1;33m)\u001b[0m\u001b[1;33m\u001b[0m\u001b[1;33m\u001b[0m\u001b[0m\n",
      "\u001b[1;32m~\\anaconda3\\lib\\site-packages\\fastai\\callback.py\u001b[0m in \u001b[0;36m__init__\u001b[1;34m(self, func)\u001b[0m\n\u001b[0;32m    330\u001b[0m     \u001b[1;32mdef\u001b[0m \u001b[0m__init__\u001b[0m\u001b[1;33m(\u001b[0m\u001b[0mself\u001b[0m\u001b[1;33m,\u001b[0m \u001b[0mfunc\u001b[0m\u001b[1;33m)\u001b[0m\u001b[1;33m:\u001b[0m\u001b[1;33m\u001b[0m\u001b[1;33m\u001b[0m\u001b[0m\n\u001b[0;32m    331\u001b[0m         \u001b[1;31m# If func has a __name__ use this one else it should be a partial\u001b[0m\u001b[1;33m\u001b[0m\u001b[1;33m\u001b[0m\u001b[1;33m\u001b[0m\u001b[0m\n\u001b[1;32m--> 332\u001b[1;33m         \u001b[0mname\u001b[0m \u001b[1;33m=\u001b[0m \u001b[0mfunc\u001b[0m\u001b[1;33m.\u001b[0m\u001b[0m__name__\u001b[0m \u001b[1;32mif\u001b[0m \u001b[0mhasattr\u001b[0m\u001b[1;33m(\u001b[0m\u001b[0mfunc\u001b[0m\u001b[1;33m,\u001b[0m \u001b[1;34m'__name__'\u001b[0m\u001b[1;33m)\u001b[0m \u001b[1;32melse\u001b[0m \u001b[0mfunc\u001b[0m\u001b[1;33m.\u001b[0m\u001b[0mfunc\u001b[0m\u001b[1;33m.\u001b[0m\u001b[0m__name__\u001b[0m\u001b[1;33m\u001b[0m\u001b[1;33m\u001b[0m\u001b[0m\n\u001b[0m\u001b[0;32m    333\u001b[0m         \u001b[0mself\u001b[0m\u001b[1;33m.\u001b[0m\u001b[0mfunc\u001b[0m\u001b[1;33m,\u001b[0m \u001b[0mself\u001b[0m\u001b[1;33m.\u001b[0m\u001b[0mname\u001b[0m \u001b[1;33m=\u001b[0m \u001b[0mfunc\u001b[0m\u001b[1;33m,\u001b[0m \u001b[0mname\u001b[0m\u001b[1;33m\u001b[0m\u001b[1;33m\u001b[0m\u001b[0m\n\u001b[0;32m    334\u001b[0m         \u001b[0mself\u001b[0m\u001b[1;33m.\u001b[0m\u001b[0mworld\u001b[0m \u001b[1;33m=\u001b[0m \u001b[0mnum_distrib\u001b[0m\u001b[1;33m(\u001b[0m\u001b[1;33m)\u001b[0m\u001b[1;33m\u001b[0m\u001b[1;33m\u001b[0m\u001b[0m\n",
      "\u001b[1;31mAttributeError\u001b[0m: 'str' object has no attribute 'func'"
     ]
    }
   ],
   "source": [
    "neuronal_network_impute(var.application_record)"
   ]
  },
  {
   "cell_type": "code",
   "execution_count": null,
   "metadata": {},
   "outputs": [],
   "source": [
    "for methode in var.methodes:\n",
    "    files = os.listdir(result_dir + methode+ '/' )\n",
    "    for file in files:\n",
    "        org_column = file[0:-4]\n",
    "        result = pd.read_csv(result_dir + methode+ '/' +  file , delimiter=\";\", decimal=\",\")\n",
    "        if os.path.exists(statistics_dir + 'statistics.csv'):\n",
    "            statistics = pd.read_csv(statistics_dir + 'statistics.csv' , delimiter=\";\", decimal=\",\")\n",
    "        else:\n",
    "            statistics = pd.DataFrame()\n",
    "\n",
    "        original = result.loc[: , org_column]\n",
    "        result = result.drop(columns=[org_column])\n",
    "        columns = np.array(['methode','type','column', 'misssing', 'Wert'])\n",
    "\n",
    "        \n",
    "        for column in result.columns:\n",
    "            values = np.array([methode,'mean_absolute_error', org_column])\n",
    "            values = np.append(values, [column])\n",
    "            values = np.append(values , [metrics.mean_absolute_error(original, result[column])])\n",
    "            statistics = pd.DataFrame(np.array([values]), columns=columns).append(statistics, ignore_index=True)\n",
    "\n",
    "        statistics.to_csv(statistics_dir + 'statistics.csv', index=False,sep=';', decimal=',')"
   ]
  },
  {
   "cell_type": "code",
   "execution_count": null,
   "metadata": {},
   "outputs": [],
   "source": [
    "for methode in var.methodes:\n",
    "    files = os.listdir(result_dir + methode+ '/' )\n",
    "    for file in files:\n",
    "        org_column = file[0:-4]\n",
    "        result = pd.read_csv(result_dir + methode+ '/' +  file , delimiter=\";\", decimal=\",\")\n",
    "        if os.path.exists(statistics_dir + 'statistics.csv'):\n",
    "            statistics = pd.read_csv(statistics_dir + 'statistics.csv' , delimiter=\";\", decimal=\",\")\n",
    "\n",
    "        else:\n",
    "            statistics = pd.DataFrame()\n",
    "            \n",
    "        original = result.loc[: , org_column]\n",
    "        result = result.drop(columns=[org_column])\n",
    "        columns = np.array(['methode','type','column', 'misssing', 'Wert'])\n",
    "\n",
    "        \n",
    "\n",
    "        for column in result.columns:\n",
    "            values = np.array([methode,'mean_squared_error', org_column])\n",
    "            values = np.append(values, [column])\n",
    "            values = np.append(values , [metrics.mean_squared_error(original, result[column])])\n",
    "            statistics = pd.DataFrame(np.array([values]), columns=columns).append(statistics, ignore_index=True)\n",
    "\n",
    "        statistics.to_csv(statistics_dir + 'statistics.csv', index=False,sep=';', decimal=',')"
   ]
  },
  {
   "cell_type": "code",
   "execution_count": null,
   "metadata": {},
   "outputs": [],
   "source": [
    "for methode in var.methodes:\n",
    "    files = os.listdir(result_dir + methode+ '/' )\n",
    "    for file in files:\n",
    "        org_column = file[0:-4]\n",
    "        result = pd.read_csv(result_dir + methode+ '/' +  file , delimiter=\";\", decimal=\",\")\n",
    "        if os.path.exists(statistics_dir + 'statistics.csv'):\n",
    "            statistics = pd.read_csv(statistics_dir + 'statistics.csv' , delimiter=\";\", decimal=\",\")\n",
    "        else:\n",
    "            statistics = pd.DataFrame()\n",
    "            \n",
    "        original = result.loc[: , org_column]\n",
    "        result = result.drop(columns=[org_column])\n",
    "        columns = np.array(['methode','type','column', 'misssing', 'Wert'])\n",
    "\n",
    "\n",
    "        for column in result.columns:\n",
    "            values = np.array([methode,'root_mean_squared_error', org_column])\n",
    "            values = np.append(values, [column])\n",
    "            values = np.append(values , [np.sqrt(metrics.mean_squared_error(original, result[column]))])\n",
    "            statistics = pd.DataFrame(np.array([values]), columns=columns).append(statistics, ignore_index=True)\n",
    "        \n",
    "\n",
    "        statistics.to_csv(statistics_dir + 'statistics.csv', index=False,sep=';', decimal=',')"
   ]
  },
  {
   "cell_type": "code",
   "execution_count": null,
   "metadata": {},
   "outputs": [],
   "source": [
    "        s = trans_df[col_corr]\n",
    "        for i, v in s.items():\n",
    "            new_df = df[df[col_corr] == i ]\n",
    "            mod = new_df[y_train.columns[0]].mode().iloc[0]\n",
    "            df2 =pd.DataFrame([[i, mod]], columns=list('IM'))\n",
    "            modi_df = modi_df.append(df2)\n",
    "        df2 =pd.DataFrame([[i, mod]], columns=list('IM'))\n",
    "        y_train.columns[0]\n",
    "            \n",
    "            \n",
    "        #Mode gibt eine Serie's wieder\n",
    "        #print(new_df.head())\n",
    "        if not new_df[column].mode().empty:\n",
    "            new_df[column].fillna(new_df[column].mode().iloc[0], inplace=True)       \n",
    "        df.update(new_df)"
   ]
  },
  {
   "cell_type": "code",
   "execution_count": null,
   "metadata": {},
   "outputs": [],
   "source": [
    "print(corr[column].max(level=0))\n",
    "    kot = corr[corr>=.9]\n",
    "    plt.figure(figsize=(12,8))\n",
    "    sns.heatmap(kot, cmap=\"Greens\")"
   ]
  },
  {
   "cell_type": "code",
   "execution_count": null,
   "metadata": {},
   "outputs": [],
   "source": [
    "result = pd.DataFrame(np.random.randint(100, size=(5, 5)), columns = list(\"ABCDE\"), \n",
    "        s = df[[column]].sort_values(by=column, ascending=True).drop_duplicates(ignore_index=True)\n",
    "        s = s.as"
   ]
  },
  {
   "cell_type": "code",
   "execution_count": null,
   "metadata": {},
   "outputs": [],
   "source": [
    "def get_redundant_pairs(df):\n",
    "    '''Get diagonal and lower triangular pairs of correlation matrix'''\n",
    "    pairs_to_drop = set()\n",
    "    cols = df.columns\n",
    "    for i in range(0, df.shape[1]):\n",
    "        for j in range(0, i+1):\n",
    "            pairs_to_drop.add((cols[i], cols[j]))\n",
    "    return pairs_to_drop"
   ]
  },
  {
   "cell_type": "code",
   "execution_count": null,
   "metadata": {},
   "outputs": [],
   "source": [
    "def get_top_abs_correlations(df, n=5):\n",
    "    au_corr = df.corr().abs().unstack()\n",
    "    labels_to_drop = get_redundant_pairs(df)\n",
    "    au_corr = au_corr.drop(labels=labels_to_drop).sort_values(ascending=False)\n",
    "    return au_corr[0:n]"
   ]
  }
 ],
 "metadata": {
  "kernelspec": {
   "display_name": "Python 3",
   "language": "python",
   "name": "python3"
  },
  "language_info": {
   "codemirror_mode": {
    "name": "ipython",
    "version": 3
   },
   "file_extension": ".py",
   "mimetype": "text/x-python",
   "name": "python",
   "nbconvert_exporter": "python",
   "pygments_lexer": "ipython3",
   "version": "3.7.6"
  }
 },
 "nbformat": 4,
 "nbformat_minor": 4
}
