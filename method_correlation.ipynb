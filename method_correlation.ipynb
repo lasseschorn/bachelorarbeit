{
 "cells": [
  {
   "cell_type": "code",
   "execution_count": 4,
   "metadata": {},
   "outputs": [],
   "source": [
    "import os\n",
    "import numpy as np\n",
    "import pandas as pd\n",
    "import seaborn as sb\n",
    "import variablen as var\n",
    "import matplotlib.pyplot as plt\n",
    "from sklearn import linear_model\n",
    "%matplotlib inline"
   ]
  },
  {
   "cell_type": "code",
   "execution_count": 5,
   "metadata": {},
   "outputs": [],
   "source": [
    "methode = var.methode_3"
   ]
  },
  {
   "cell_type": "code",
   "execution_count": 6,
   "metadata": {},
   "outputs": [],
   "source": [
    "save_dir = var.result_dir + methode + \"/\""
   ]
  },
  {
   "cell_type": "code",
   "execution_count": 7,
   "metadata": {},
   "outputs": [],
   "source": [
    "mar_files = os.listdir(var.mar_dir)"
   ]
  },
  {
   "cell_type": "code",
   "execution_count": 8,
   "metadata": {},
   "outputs": [],
   "source": [
    "mcar_files = os.listdir(var.mcar_dir)"
   ]
  },
  {
   "cell_type": "code",
   "execution_count": 9,
   "metadata": {},
   "outputs": [],
   "source": [
    "mnar_files = os.listdir(var.mnar_dir)"
   ]
  },
  {
   "cell_type": "code",
   "execution_count": 10,
   "metadata": {},
   "outputs": [],
   "source": [
    "df_original  = pd.read_csv(var.prepaired_df, delimiter=\";\", decimal=\",\")"
   ]
  },
  {
   "cell_type": "code",
   "execution_count": 11,
   "metadata": {},
   "outputs": [],
   "source": [
    "def correlation(dataset, column):\n",
    "    threshold = -1\n",
    "    col_corr = \"\"\n",
    "    corr_matrix = dataset.corr()\n",
    "    for i in range(len(corr_matrix.columns)):\n",
    "        for j in range(i):\n",
    "            if corr_matrix.iloc[i, j] > threshold and corr_matrix.iloc[i, j] != 1 and corr_matrix.columns[j] == column :\n",
    "                threshold = corr_matrix.iloc[i, j]\n",
    "                col_corr = corr_matrix.columns[i]\n",
    "    return col_corr"
   ]
  },
  {
   "cell_type": "code",
   "execution_count": 12,
   "metadata": {},
   "outputs": [],
   "source": [
    "def imputation(df,column):\n",
    "    col_corr = correlation(df_original, column)\n",
    "    s = df[col_corr].drop_duplicates().dropna()\n",
    "    for i, v in s.items():\n",
    "        #print(col_corr)\n",
    "        temp = df[df[col_corr] == v][column].dropna()\n",
    "        med = temp.median()\n",
    "        new_df = df[df[col_corr] == v ]\n",
    "        #print(new_df[column].count())\n",
    "        #print(df[column].count())\n",
    "        new_df.fillna(med, inplace=True)\n",
    "        #print(new_df[column].count())\n",
    "        df.update(new_df)\n",
    "        #print(df[column].count())\n",
    "        #print(\"LASSSSSSSSSSSSSSSSSSSSSSSSSS\")\n",
    "        #df[df[col_corr] == v & df[column].isna() ][column] = median\n",
    "        #print(df[df[col_corr] == v][column].fillna(\"Lasse\", inplace=True)  )  \n",
    "        #print(df[df[col_corr] == v][column].fillna(df[df[col_corr] == v].median()[column], inplace=True)  )  \n",
    "    return df"
   ]
  },
  {
   "cell_type": "code",
   "execution_count": 13,
   "metadata": {},
   "outputs": [],
   "source": [
    "def execute(file,column):\n",
    "    print(column)\n",
    "    df = pd.read_csv(file, delimiter=\";\", decimal=\",\")\n",
    "    print(df[column].count())\n",
    "    result = imputation(df,column) \n",
    "    print(result[column].count())\n",
    "    return result[column]"
   ]
  },
  {
   "cell_type": "code",
   "execution_count": 14,
   "metadata": {},
   "outputs": [
    {
     "name": "stdout",
     "output_type": "stream",
     "text": [
      "AMT_INCOME_TOTAL\n",
      "394990\n"
     ]
    },
    {
     "name": "stderr",
     "output_type": "stream",
     "text": [
      "C:\\Users\\GreenBook\\anaconda3\\lib\\site-packages\\pandas\\core\\frame.py:4153: SettingWithCopyWarning: \n",
      "A value is trying to be set on a copy of a slice from a DataFrame\n",
      "\n",
      "See the caveats in the documentation: https://pandas.pydata.org/pandas-docs/stable/user_guide/indexing.html#returning-a-view-versus-a-copy\n",
      "  downcast=downcast,\n"
     ]
    },
    {
     "name": "stdout",
     "output_type": "stream",
     "text": [
      "434230\n",
      "AMT_INCOME_TOTAL\n",
      "348196\n",
      "420768\n",
      "AMT_INCOME_TOTAL\n",
      "306199\n",
      "398995\n",
      "AMT_INCOME_TOTAL\n",
      "262841\n",
      "367637\n",
      "AMT_INCOME_TOTAL\n",
      "221923\n",
      "330221\n",
      "AMT_INCOME_TOTAL\n",
      "175082\n",
      "279054\n",
      "AMT_INCOME_TOTAL\n",
      "130500\n",
      "222782\n",
      "AMT_INCOME_TOTAL\n",
      "86900\n",
      "157937\n",
      "CODE_GENDER\n",
      "395156\n",
      "434204\n",
      "CODE_GENDER\n",
      "351649\n",
      "421042\n",
      "CODE_GENDER\n",
      "305918\n",
      "398550\n",
      "CODE_GENDER\n",
      "262804\n",
      "368470\n",
      "CODE_GENDER\n",
      "219898\n",
      "329704\n",
      "CODE_GENDER\n",
      "176587\n",
      "281899\n",
      "CODE_GENDER\n",
      "132638\n",
      "224253\n",
      "CODE_GENDER\n",
      "87629\n",
      "158478\n"
     ]
    }
   ],
   "source": [
    "for column in var.columns:\n",
    "    results = df_original[[column]].copy()\n",
    "    for i in mar_files:\n",
    "        results[i[0:-4]] = execute(var.mar_dir + i, column)\n",
    "    results.to_csv( save_dir  + 'MAR/' + column + '.csv'  ,index=False,sep=';', decimal=',')"
   ]
  },
  {
   "cell_type": "code",
   "execution_count": null,
   "metadata": {},
   "outputs": [],
   "source": [
    "for column in var.columns:\n",
    "    results = df_original[[column]].copy()\n",
    "    for i in mcar_files:\n",
    "        results[i[0:-4]] = execute(var.mcar_dir + i, column)\n",
    "    results.to_csv( save_dir  + 'MCAR/' + column + '.csv'  ,index=False,sep=';', decimal=',')"
   ]
  },
  {
   "cell_type": "code",
   "execution_count": 12,
   "metadata": {},
   "outputs": [],
   "source": [
    "for column in var.columns:\n",
    "    results = df_original[[column]].copy()\n",
    "    for i in mnar_files:\n",
    "        results[i[0:-4]] = execute(var.mnar_dir + i, column)\n",
    "    results.to_csv( save_dir  + 'MNAR/' + column + '.csv'  ,index=False,sep=';', decimal=',')"
   ]
  },
  {
   "cell_type": "code",
   "execution_count": null,
   "metadata": {},
   "outputs": [],
   "source": []
  }
 ],
 "metadata": {
  "kernelspec": {
   "display_name": "Python 3",
   "language": "python",
   "name": "python3"
  },
  "language_info": {
   "codemirror_mode": {
    "name": "ipython",
    "version": 3
   },
   "file_extension": ".py",
   "mimetype": "text/x-python",
   "name": "python",
   "nbconvert_exporter": "python",
   "pygments_lexer": "ipython3",
   "version": "3.7.6"
  }
 },
 "nbformat": 4,
 "nbformat_minor": 4
}
