{
 "cells": [
  {
   "cell_type": "code",
   "execution_count": 1,
   "metadata": {},
   "outputs": [],
   "source": [
    "import numpy as np\n",
    "import pandas as pd\n",
    "import matplotlib.pyplot as plt\n",
    "import seaborn as sns\n",
    "%matplotlib inline\n",
    "from scipy.special import expit as sigmoid  # logistic function\n",
    "import variablen as var\n",
    "from sklearn.preprocessing import normalize"
   ]
  },
  {
   "cell_type": "code",
   "execution_count": 2,
   "metadata": {},
   "outputs": [],
   "source": [
    "X_complete = pd.read_csv(var.prepaired_df, delimiter=\";\", decimal=\",\")"
   ]
  },
  {
   "cell_type": "code",
   "execution_count": 3,
   "metadata": {},
   "outputs": [],
   "source": [
    "# Quelle https://rmisstastic.netlify.app/how-to/python/generate_html/how%20to%20generate%20missing%20values\n",
    "\n",
    "def ampute_mnar(X_complete, missing_rate):\n",
    "    \"\"\" ampute X_complete with censoring (Missing Not At Random)\n",
    "    \n",
    "    The missingness depends on the values.\n",
    "    This will tends to \"censor\" X[i,j] where X[i,j] is high \n",
    "    comparing to its column X[:,j]\n",
    "    \"\"\"\n",
    "    # M depends on X_complete values\n",
    "    M_proba = np.random.normal(X_complete)\n",
    "    M_proba = normalize(M_proba, norm='l1')\n",
    "    \n",
    "    # compute thresold wrt missing_rate\n",
    "    thresold = np.percentile(M_proba.ravel(), 100 * (1- missing_rate))\n",
    "    M = M_proba > thresold\n",
    "    \n",
    "    X_obs = X_complete.copy()\n",
    "    np.putmask(X_obs, M, np.nan)\n",
    "    print('Percentage of newly generated mising values: {}'.\\\n",
    "      format(np.sum(np.isnan(X_obs))/X_obs.size))\n",
    "    return X_obs"
   ]
  },
  {
   "cell_type": "code",
   "execution_count": 4,
   "metadata": {},
   "outputs": [
    {
     "name": "stdout",
     "output_type": "stream",
     "text": [
      "Percentage of newly generated mising values: 0.1000000134129724\n",
      "Percentage of newly generated mising values: 0.2000000268259448\n",
      "Percentage of newly generated mising values: 0.30000004023891724\n",
      "Percentage of newly generated mising values: 0.4000000536518896\n",
      "Percentage of newly generated mising values: 0.49999993293513795\n",
      "Percentage of newly generated mising values: 0.5999999463481104\n",
      "Percentage of newly generated mising values: 0.6999999597610828\n",
      "Percentage of newly generated mising values: 0.7999999731740551\n"
     ]
    }
   ],
   "source": [
    "# Numpy seed random\n",
    "np.random.seed(var.random_seed)\n",
    "for missing_rate in var.missing_rats:\n",
    "    X_obs_mnar = pd.DataFrame(ampute_mnar(X_complete.to_numpy(), missing_rate))\n",
    "    X_obs_mnar.columns = [X_complete.columns]\n",
    "    filename = str(np.int_(100 * missing_rate))\n",
    "    X_obs_mnar.to_csv( var.mnar_dir + filename + \".csv\" ,index=False,sep=';', decimal=',')"
   ]
  },
  {
   "cell_type": "code",
   "execution_count": null,
   "metadata": {},
   "outputs": [],
   "source": []
  },
  {
   "cell_type": "code",
   "execution_count": null,
   "metadata": {},
   "outputs": [],
   "source": []
  }
 ],
 "metadata": {
  "kernelspec": {
   "display_name": "Python 3",
   "language": "python",
   "name": "python3"
  },
  "language_info": {
   "codemirror_mode": {
    "name": "ipython",
    "version": 3
   },
   "file_extension": ".py",
   "mimetype": "text/x-python",
   "name": "python",
   "nbconvert_exporter": "python",
   "pygments_lexer": "ipython3",
   "version": "3.7.6"
  }
 },
 "nbformat": 4,
 "nbformat_minor": 4
}
