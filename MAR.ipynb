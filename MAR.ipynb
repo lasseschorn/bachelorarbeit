{
 "cells": [
  {
   "cell_type": "code",
   "execution_count": 1,
   "metadata": {},
   "outputs": [],
   "source": [
    "import numpy as np\n",
    "import pandas as pd\n",
    "import matplotlib.pyplot as plt\n",
    "import seaborn as sns\n",
    "%matplotlib inline\n",
    "from scipy.special import expit as sigmoid  # logistic function\n",
    "import variablen as var\n",
    "# The following code is work in progress\n",
    "from sklearn.preprocessing import normalize"
   ]
  },
  {
   "cell_type": "code",
   "execution_count": 2,
   "metadata": {},
   "outputs": [],
   "source": [
    "X_complete = pd.read_csv(var.prepaired_df, delimiter=\";\", decimal=\",\")"
   ]
  },
  {
   "cell_type": "code",
   "execution_count": 3,
   "metadata": {},
   "outputs": [],
   "source": [
    "# Quelle https://rmisstastic.netlify.app/how-to/python/generate_html/how%20to%20generate%20missing%20values\n",
    "\n",
    "def ampute_mar(X_complete, missing_rate, W=None):\n",
    "    \"\"\" Observed values will censor the missing ones\n",
    "    \n",
    "    The proba of being missing: M_proba = X_obs.dot(W)\n",
    "    So for each sample, some observed feature (P=1) will influence \n",
    "    the missingness of some others features (P=0) w.r.t to the weight \n",
    "    matrix W (shape n_features x n_features).\n",
    "    \n",
    "    e.g. during a questionnary, those who said being busy (X_obs[:,0] = 1) \n",
    "    usualy miss to fill the last question (X_obs[:,-1] = np.nan)\n",
    "    So here W[0,-1] = 1\n",
    "    \"\"\"\n",
    "    X_obs = X_complete.copy()\n",
    "    M_proba = np.zeros(X_obs.shape)\n",
    "    \n",
    "    if W is None:\n",
    "        # generate the weigth matrix W\n",
    "        W = np.random.randn(X_complete.shape[1], X_complete.shape[1])\n",
    "\n",
    "    # Severals iteration to have room for high missing_rate\n",
    "    for i in range(X_obs.shape[1]*2):\n",
    "        # Sample a pattern matrix P\n",
    "        # P[i,j] = 1 will correspond to an observed value\n",
    "        # P[i,j] = 0 will correspond to a potential missing value\n",
    "        P = np.random.binomial(1, .5, size=X_complete.shape)\n",
    "\n",
    "        # potential missing entry do not take part of missingness computation\n",
    "        X_not_missing = np.multiply(X_complete,P)\n",
    "\n",
    "        # sample from the proba X_obs.dot(W)\n",
    "        sigma = np.var(X_not_missing)\n",
    "        M_proba_ = np.random.normal(X_not_missing.dot(W), scale = sigma)\n",
    "\n",
    "        # not missing should have M_proba = 0\n",
    "        M_proba_ = np.multiply(M_proba_, 1-P)  # M_proba[P] = 0\n",
    "        \n",
    "        M_proba += M_proba_\n",
    "\n",
    "    thresold = np.percentile(M_proba.ravel(), 100 * (1 - missing_rate))\n",
    "    M = M_proba > thresold\n",
    "\n",
    "    np.putmask(X_obs, M, np.nan)\n",
    "    print('Percentage of newly generated mising values: {}'.\\\n",
    "      format(np.sum(np.isnan(X_obs))/X_obs.size))\n",
    "    return X_obs"
   ]
  },
  {
   "cell_type": "code",
   "execution_count": 4,
   "metadata": {},
   "outputs": [
    {
     "name": "stdout",
     "output_type": "stream",
     "text": [
      "Percentage of newly generated mising values: 0.1000000134129724\n",
      "Percentage of newly generated mising values: 0.2000000268259448\n",
      "Percentage of newly generated mising values: 0.30000004023891724\n",
      "Percentage of newly generated mising values: 0.4000000536518896\n",
      "Percentage of newly generated mising values: 0.49999993293513795\n",
      "Percentage of newly generated mising values: 0.5999999463481104\n",
      "Percentage of newly generated mising values: 0.6999999597610828\n",
      "Percentage of newly generated mising values: 0.7999999731740551\n"
     ]
    }
   ],
   "source": [
    "W = np.array([[0,10],[0,0]]) \n",
    "# With this weight matrix W, \n",
    "# Numpy seed random\n",
    "np.random.seed(var.random_seed)\n",
    "# missingness of X[:,1] depends on X[:,0] values\n",
    "for missing_rate in var.missing_rats:\n",
    "    X_obs_mar = pd.DataFrame(ampute_mar(X_complete.to_numpy() ,missing_rate))\n",
    "    X_obs_mar.columns = [X_complete.columns]\n",
    "    filename = str(np.int_(100 *  missing_rate))\n",
    "    X_obs_mar.to_csv(var.mar_dir + filename + \".csv\" ,index=False, sep=';', decimal=',')"
   ]
  },
  {
   "cell_type": "code",
   "execution_count": null,
   "metadata": {},
   "outputs": [],
   "source": []
  }
 ],
 "metadata": {
  "kernelspec": {
   "display_name": "Python 3",
   "language": "python",
   "name": "python3"
  },
  "language_info": {
   "codemirror_mode": {
    "name": "ipython",
    "version": 3
   },
   "file_extension": ".py",
   "mimetype": "text/x-python",
   "name": "python",
   "nbconvert_exporter": "python",
   "pygments_lexer": "ipython3",
   "version": "3.7.6"
  }
 },
 "nbformat": 4,
 "nbformat_minor": 4
}
